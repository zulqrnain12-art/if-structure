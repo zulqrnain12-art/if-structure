{
  "nbformat": 4,
  "nbformat_minor": 0,
  "metadata": {
    "colab": {
      "provenance": []
    },
    "kernelspec": {
      "name": "python3",
      "display_name": "Python 3"
    },
    "language_info": {
      "name": "python"
    }
  },
  "cells": [
    {
      "cell_type": "markdown",
      "source": [
        "### List"
      ],
      "metadata": {
        "id": "DLz1Illal7-N"
      }
    },
    {
      "cell_type": "markdown",
      "source": [
        "Lists are used to store multiple items in a single variable.\n",
        "\n",
        "Lists are one of 4 built-in data types in Python used to store collections of data, the other 3 are Tuple, Set, and Dictionary, all with different qualities and usage.\n",
        "\n",
        "Lists are created using square brackets:"
      ],
      "metadata": {
        "id": "dzE51oJ4mYu-"
      }
    },
    {
      "cell_type": "code",
      "execution_count": 1,
      "metadata": {
        "id": "U0egGZJYlzWN",
        "colab": {
          "base_uri": "https://localhost:8080/"
        },
        "outputId": "073dfa7d-6c15-4ada-9f8c-1a42e19e5e1a"
      },
      "outputs": [
        {
          "output_type": "stream",
          "name": "stdout",
          "text": [
            "[1, 'ashoo', 24, 12.4]\n"
          ]
        }
      ],
      "source": [
        "lstemp = []\n",
        "\n",
        "lst = ['one', 'two', 'three', 'foure'] # list of string\n",
        "\n",
        "lst2 = [1, 2, 3, 4,] # list of integer\n",
        "\n",
        "lst3 = [[1, 2], [3, 4], [5, 6]] # list of list\n",
        "\n",
        "lst4 = [1, 'ashoo', 24, 12.4 ] #list of different datatype\n",
        "\n",
        "print(lst4)"
      ]
    },
    {
      "cell_type": "code",
      "source": [
        "print(lst3)"
      ],
      "metadata": {
        "colab": {
          "base_uri": "https://localhost:8080/"
        },
        "id": "kuGPL4uuqP1Q",
        "outputId": "7e94471c-81ae-434f-e161-ec2761a51482"
      },
      "execution_count": 2,
      "outputs": [
        {
          "output_type": "stream",
          "name": "stdout",
          "text": [
            "[[1, 2], [3, 4], [5, 6]]\n"
          ]
        }
      ]
    },
    {
      "cell_type": "code",
      "source": [
        "# indexing\n",
        "print(lst[1])"
      ],
      "metadata": {
        "colab": {
          "base_uri": "https://localhost:8080/"
        },
        "id": "nrg_WS6PqUUe",
        "outputId": "05e1609a-16ae-4e76-f6a5-e5ebfc387843"
      },
      "execution_count": 3,
      "outputs": [
        {
          "output_type": "stream",
          "name": "stdout",
          "text": [
            "two\n"
          ]
        }
      ]
    },
    {
      "cell_type": "code",
      "source": [
        "print(lst3[2])"
      ],
      "metadata": {
        "colab": {
          "base_uri": "https://localhost:8080/"
        },
        "id": "fIi4wAzwqgB7",
        "outputId": "55f16958-c07e-4894-bfab-e5c82f4f07e2"
      },
      "execution_count": 5,
      "outputs": [
        {
          "output_type": "stream",
          "name": "stdout",
          "text": [
            "[5, 6]\n"
          ]
        }
      ]
    },
    {
      "cell_type": "markdown",
      "source": [
        "### using for loop in list"
      ],
      "metadata": {
        "id": "Z8XBgIu2rZ-5"
      }
    },
    {
      "cell_type": "code",
      "source": [
        "for ls in lst:\n",
        "  print(ls)"
      ],
      "metadata": {
        "colab": {
          "base_uri": "https://localhost:8080/"
        },
        "id": "EKIZUAqorkJD",
        "outputId": "147637e5-e9d7-4d12-d143-ceeb6e85cbc3"
      },
      "execution_count": 6,
      "outputs": [
        {
          "output_type": "stream",
          "name": "stdout",
          "text": [
            "one\n",
            "two\n",
            "three\n",
            "foure\n"
          ]
        }
      ]
    },
    {
      "cell_type": "code",
      "source": [
        "for ls in lst3:\n",
        "  print(ls)"
      ],
      "metadata": {
        "colab": {
          "base_uri": "https://localhost:8080/"
        },
        "id": "hqrk4gxlruMe",
        "outputId": "a71b6173-7196-4677-de9c-6b47cb004f43"
      },
      "execution_count": 7,
      "outputs": [
        {
          "output_type": "stream",
          "name": "stdout",
          "text": [
            "[1, 2]\n",
            "[3, 4]\n",
            "[5, 6]\n"
          ]
        }
      ]
    },
    {
      "cell_type": "code",
      "source": [
        "print(len(lst))"
      ],
      "metadata": {
        "colab": {
          "base_uri": "https://localhost:8080/"
        },
        "id": "iwY1VwmMsZn8",
        "outputId": "56044994-d00c-4ffc-e0c5-16820fec1a63"
      },
      "execution_count": 9,
      "outputs": [
        {
          "output_type": "stream",
          "name": "stdout",
          "text": [
            "4\n"
          ]
        }
      ]
    },
    {
      "cell_type": "code",
      "source": [
        "for ls in range(len(lst)):\n",
        " print(lst[ls])\n"
      ],
      "metadata": {
        "colab": {
          "base_uri": "https://localhost:8080/"
        },
        "id": "xfsPP0pssqO5",
        "outputId": "987d4594-8f94-4e16-c67f-6afe4fd8f66d"
      },
      "execution_count": 13,
      "outputs": [
        {
          "output_type": "stream",
          "name": "stdout",
          "text": [
            "one\n",
            "two\n",
            "three\n",
            "foure\n"
          ]
        }
      ]
    },
    {
      "cell_type": "code",
      "source": [
        "# chnage list\n",
        "\n",
        "print(lst2)"
      ],
      "metadata": {
        "colab": {
          "base_uri": "https://localhost:8080/"
        },
        "id": "IXML37tauHJ5",
        "outputId": "0844dbd6-4ef5-4ba3-8c4b-8f90daa14d5b"
      },
      "execution_count": 15,
      "outputs": [
        {
          "output_type": "stream",
          "name": "stdout",
          "text": [
            "[1, 2, 3, 4]\n"
          ]
        }
      ]
    },
    {
      "cell_type": "code",
      "source": [
        "lst2[0], lst2[1], lst2[2], lst2[3] = 6, 7, 8, 9"
      ],
      "metadata": {
        "id": "xKAavwe3uWVG"
      },
      "execution_count": 19,
      "outputs": []
    },
    {
      "cell_type": "code",
      "source": [
        "print(lst2)"
      ],
      "metadata": {
        "colab": {
          "base_uri": "https://localhost:8080/"
        },
        "id": "JGW_N4EFutjD",
        "outputId": "fbabbbd1-7782-4e73-e4d8-85be81d72ae0"
      },
      "execution_count": 20,
      "outputs": [
        {
          "output_type": "stream",
          "name": "stdout",
          "text": [
            "[6, 7, 8, 9]\n"
          ]
        }
      ]
    },
    {
      "cell_type": "markdown",
      "source": [
        "### indexing and slicing"
      ],
      "metadata": {
        "id": "3c_CYzztveyt"
      }
    },
    {
      "cell_type": "code",
      "source": [
        "print(lst2)"
      ],
      "metadata": {
        "colab": {
          "base_uri": "https://localhost:8080/"
        },
        "id": "DlfeAl5ivvkh",
        "outputId": "e3cfe510-2fa9-44f0-82cc-f26fe8a1cd50"
      },
      "execution_count": 21,
      "outputs": [
        {
          "output_type": "stream",
          "name": "stdout",
          "text": [
            "[6, 7, 8, 9]\n"
          ]
        }
      ]
    },
    {
      "cell_type": "code",
      "source": [
        "lst[2:]"
      ],
      "metadata": {
        "colab": {
          "base_uri": "https://localhost:8080/"
        },
        "id": "mE92E55vv89j",
        "outputId": "cf5a3dd2-a325-4d51-abc6-ae732df06782"
      },
      "execution_count": 23,
      "outputs": [
        {
          "output_type": "execute_result",
          "data": {
            "text/plain": [
              "[8, 9]"
            ]
          },
          "metadata": {},
          "execution_count": 23
        }
      ]
    },
    {
      "cell_type": "code",
      "source": [
        "lst2[:]"
      ],
      "metadata": {
        "colab": {
          "base_uri": "https://localhost:8080/"
        },
        "id": "fpNwVmPcv2XS",
        "outputId": "357b17be-df06-46d7-ee09-a59923877de0"
      },
      "execution_count": 22,
      "outputs": [
        {
          "output_type": "execute_result",
          "data": {
            "text/plain": [
              "[6, 7, 8, 9]"
            ]
          },
          "metadata": {},
          "execution_count": 22
        }
      ]
    }
  ]
}