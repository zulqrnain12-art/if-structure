{
  "nbformat": 4,
  "nbformat_minor": 0,
  "metadata": {
    "colab": {
      "provenance": []
    },
    "kernelspec": {
      "name": "python3",
      "display_name": "Python 3"
    },
    "language_info": {
      "name": "python"
    }
  },
  "cells": [
    {
      "cell_type": "markdown",
      "source": [
        "# Python Classes/Objects\n",
        "Python is an object oriented programming language.\n",
        "\n",
        "Almost everything in Python is an object, with its properties and methods.\n",
        "\n",
        "A Class is like an object constructor, or a \"blueprint\" for creating objects."
      ],
      "metadata": {
        "id": "7B4fpt4vT3wQ"
      }
    },
    {
      "cell_type": "markdown",
      "source": [
        "# Create a Class\n",
        "To create a class, use the keyword class:"
      ],
      "metadata": {
        "id": "bm1wAvbuUGJI"
      }
    },
    {
      "cell_type": "code",
      "execution_count": 2,
      "metadata": {
        "colab": {
          "base_uri": "https://localhost:8080/"
        },
        "id": "HgGPjNy8Tggr",
        "outputId": "aaeb1759-3ebd-4ac3-ce15-40acc92740a1"
      },
      "outputs": [
        {
          "output_type": "stream",
          "name": "stdout",
          "text": [
            "<class '__main__.Myclass'>\n"
          ]
        }
      ],
      "source": [
        "class Myclass :\n",
        "  x = 5\n",
        "\n",
        "print(Myclass)"
      ]
    },
    {
      "cell_type": "markdown",
      "source": [
        "# Create Object\n",
        "Now we can use the class named MyClass to create objects:\n",
        "\n",
        "\n",
        "Create an object named p1, and print the value of x:"
      ],
      "metadata": {
        "id": "GRLMvLDdUl37"
      }
    },
    {
      "cell_type": "code",
      "source": [
        "class Myclass:\n",
        "  x = 7\n",
        "\n",
        "p1 = (Myclass)\n",
        "print(p1.x)"
      ],
      "metadata": {
        "colab": {
          "base_uri": "https://localhost:8080/"
        },
        "id": "vHwLuFFMUa10",
        "outputId": "a3a69de1-d4a4-422f-a9cd-33733fffda9e"
      },
      "execution_count": 3,
      "outputs": [
        {
          "output_type": "stream",
          "name": "stdout",
          "text": [
            "7\n"
          ]
        }
      ]
    },
    {
      "cell_type": "code",
      "source": [
        "class student :\n",
        "  s = 6\n",
        "\n",
        "p2 = (student)\n",
        "print(p2.s)"
      ],
      "metadata": {
        "colab": {
          "base_uri": "https://localhost:8080/"
        },
        "id": "0_O0tpEpU2NS",
        "outputId": "0fc5fc70-c486-4389-df3c-f6a14ae5835b"
      },
      "execution_count": 4,
      "outputs": [
        {
          "output_type": "stream",
          "name": "stdout",
          "text": [
            "6\n"
          ]
        }
      ]
    },
    {
      "cell_type": "markdown",
      "source": [
        "# The __init__() Function\n",
        "The examples above are classes and objects in their simplest form, and are not really useful in real life applications.\n",
        "\n",
        "To understand the meaning of classes we have to understand the built-in __init__() function.\n",
        "\n",
        "All classes have a function called __init__(), which is always executed when the class is being initiated.\n",
        "\n",
        "Use the __init__() function to assign values to object properties, or other operations that are necessary to do when the object is being created:"
      ],
      "metadata": {
        "id": "z5wQ39j4VS3y"
      }
    },
    {
      "cell_type": "code",
      "source": [
        "# Create a class named Person, use the __init__() function to assign values for name and age:\n",
        "\n",
        "class person :\n",
        "  def __init__(self, name, age):\n",
        "    self.name = name\n",
        "    self.age = age\n",
        "\n",
        "p1 = person (\"zulqrnain\", 36)\n",
        "\n",
        "print(p1.name)\n",
        "print(p1.age)"
      ],
      "metadata": {
        "colab": {
          "base_uri": "https://localhost:8080/"
        },
        "id": "FZkvA71OVVc2",
        "outputId": "b655aefc-be26-4d81-ef85-1e4880ba9a2e"
      },
      "execution_count": 6,
      "outputs": [
        {
          "output_type": "stream",
          "name": "stdout",
          "text": [
            "zulqrnain\n",
            "36\n"
          ]
        }
      ]
    },
    {
      "cell_type": "markdown",
      "source": [
        "# Second Problem"
      ],
      "metadata": {
        "id": "hLTPTilqa_yh"
      }
    },
    {
      "cell_type": "code",
      "source": [
        "class car:\n",
        "  def __init__(self, brand, model, year):\n",
        "    self.brand = brand\n",
        "    self.model = model\n",
        "    self.year = year\n",
        "\n",
        "p2 = car(\"Toyota\", \"Corolla\", 2020)\n",
        "print(p2.brand)\n",
        "print(p2.model)\n",
        "print(p2.year)\n",
        "# Note: The __init__() function is called automatically every time the class is being used to create a new object."
      ],
      "metadata": {
        "colab": {
          "base_uri": "https://localhost:8080/"
        },
        "id": "ssc3Yi4wbToW",
        "outputId": "2260a446-d5b0-41fe-a6ce-a77c94a7f88d"
      },
      "execution_count": 7,
      "outputs": [
        {
          "output_type": "stream",
          "name": "stdout",
          "text": [
            "Toyota\n",
            "Corolla\n",
            "2020\n"
          ]
        }
      ]
    },
    {
      "cell_type": "markdown",
      "source": [
        "# The __str__() Function\n",
        "The __str__() function controls what should be returned when the class object is represented as a string.\n",
        "\n",
        "If the __str__() function is not set, the string representation of the object is returned:"
      ],
      "metadata": {
        "id": "lC68d7Z6cF-J"
      }
    },
    {
      "cell_type": "markdown",
      "source": [
        "The string representation of an object WITHOUT the __str__() function:"
      ],
      "metadata": {
        "id": "CwOkhYJrcObC"
      }
    },
    {
      "cell_type": "code",
      "source": [
        "class Animal:\n",
        "  def __init__(self, name, species):\n",
        "    self.name = name\n",
        "    self.species = species\n",
        "\n",
        "p1 = Animal(\"Lion\", \"Panthera leo\")\n",
        "print(p1)"
      ],
      "metadata": {
        "colab": {
          "base_uri": "https://localhost:8080/"
        },
        "id": "lkCz6BugcCin",
        "outputId": "3270c5c7-36fe-4117-c967-09f1776b1f7d"
      },
      "execution_count": 9,
      "outputs": [
        {
          "output_type": "stream",
          "name": "stdout",
          "text": [
            "<__main__.Animal object at 0x7f7b519321a0>\n"
          ]
        }
      ]
    },
    {
      "cell_type": "code",
      "source": [
        "# Example\n",
        "\n",
        "class Animal:\n",
        "  def __init__(self, name, species):\n",
        "    self.name = name\n",
        "    self.species = species\n",
        "  def __str__(self):\n",
        "    return f\"{self.name},({self.species})\"\n",
        "\n",
        "p1 = Animal(\"Lion\", \"Panthera leo\")\n",
        "print(p1)"
      ],
      "metadata": {
        "colab": {
          "base_uri": "https://localhost:8080/"
        },
        "id": "vTeJ-EDpctHD",
        "outputId": "0e1d8785-38cc-4b24-c918-0c66b6d275f5"
      },
      "execution_count": 14,
      "outputs": [
        {
          "output_type": "stream",
          "name": "stdout",
          "text": [
            "Lion,(Panthera leo)\n"
          ]
        }
      ]
    },
    {
      "cell_type": "code",
      "source": [
        "class student:\n",
        "    def __init__(self, name, age, Rollno):\n",
        "        self.name = name\n",
        "        self.age = age\n",
        "        self.Rollno = Rollno\n",
        "\n",
        "    def __str__(self):\n",
        "        return f\"{self.name} {self.age} ({self.Rollno})\"\n",
        "\n",
        "p1 = student(\"Zulqrnain\", 21, \"A001\")\n",
        "print(p1)"
      ],
      "metadata": {
        "colab": {
          "base_uri": "https://localhost:8080/"
        },
        "id": "JQ6Kg6tfdnBy",
        "outputId": "05649eaf-5716-4f5a-c553-fdd4a17283a3"
      },
      "execution_count": 35,
      "outputs": [
        {
          "output_type": "stream",
          "name": "stdout",
          "text": [
            "Zulqrnain 21 (A001)\n"
          ]
        }
      ]
    },
    {
      "cell_type": "markdown",
      "source": [
        "# Object Methods\n",
        "Objects can also contain methods. Methods in objects are functions that belong to the object.\n",
        "\n",
        "Let us create a method in the Person class:"
      ],
      "metadata": {
        "id": "08zEdMvQjKQz"
      }
    },
    {
      "cell_type": "code",
      "source": [
        "# Insert a function that prints a greeting, and execute it on the p1 object:\n",
        "class person:\n",
        "  def __init__(self, name, age):\n",
        "    self.name = name\n",
        "    self.age = age\n",
        "  def person(self):\n",
        "    print(\"Hello my name is \" + self.name)\n",
        "\n",
        "p1 = person(\"Zulqrnain\", 21)\n",
        "p1.person()"
      ],
      "metadata": {
        "colab": {
          "base_uri": "https://localhost:8080/"
        },
        "id": "dxJJUs7ZjMI6",
        "outputId": "c04d3c0d-5281-446b-d03b-8770e2bf9be1"
      },
      "execution_count": 38,
      "outputs": [
        {
          "output_type": "stream",
          "name": "stdout",
          "text": [
            "Hello my name is Zulqrnain\n"
          ]
        }
      ]
    },
    {
      "cell_type": "code",
      "source": [
        "class student :\n",
        "  def __init__(self, fname, lname, age):\n",
        "    self.fname = fname\n",
        "    self.lname = lname\n",
        "    self.age = age\n",
        "\n",
        "  def student(self):\n",
        "    print(\"Hello my name is \" + self.fname+ \" \" + self.lname+ \" \" + \"and I am \" + str(self.age))\n",
        "\n",
        "p2 = student(\"Chuhadry\", \"Zulqrnain\", 21)\n",
        "p2.student()\n",
        "\n",
        "# Note: The self parameter is a reference to the current instance of the class, and is used to access variables that belong to the class."
      ],
      "metadata": {
        "colab": {
          "base_uri": "https://localhost:8080/"
        },
        "id": "X16dn7N7ka-K",
        "outputId": "50285f05-d596-4c4c-a480-a35ec8109295"
      },
      "execution_count": 41,
      "outputs": [
        {
          "output_type": "stream",
          "name": "stdout",
          "text": [
            "Hello my name is Chuhadry Zulqrnain and I am 21\n"
          ]
        }
      ]
    },
    {
      "cell_type": "markdown",
      "source": [
        "# The self Parameter\n",
        "The self parameter is a reference to the current instance of the class, and is used to access variables that belongs to the class.\n",
        "\n",
        "It does not have to be named self , you can call it whatever you like, but it has to be the first parameter of any function in the class:"
      ],
      "metadata": {
        "id": "jIOnLqcamxTk"
      }
    },
    {
      "cell_type": "code",
      "source": [
        "# Use the words mysillyobject and abc instead of self:\n",
        "class person :\n",
        "  def __init__(object, fname, lname):\n",
        "    object.fname = fname\n",
        "    object.lname = lname\n",
        "\n",
        "  def person(unobject):\n",
        "    print(\"Hello, my name is \" + unobject.fname + \" \" + unobject.lname)\n",
        "\n",
        "p1 = person(\"Chuhadriy\", \"Zulqrnain\")\n",
        "p1.person()"
      ],
      "metadata": {
        "colab": {
          "base_uri": "https://localhost:8080/"
        },
        "id": "meLb4wR8m9GU",
        "outputId": "2e7205ef-7163-496e-c3fa-33eed83ebb2e"
      },
      "execution_count": 43,
      "outputs": [
        {
          "output_type": "stream",
          "name": "stdout",
          "text": [
            "Hello, my name is Chuhadriy Zulqrnain\n"
          ]
        }
      ]
    },
    {
      "cell_type": "code",
      "source": [
        "from re import L\n",
        "class student :\n",
        "  def __init__(object, fname, lname, age):\n",
        "    object.fname = fname\n",
        "    object.lname = lname\n",
        "    object.age = age\n",
        "\n",
        "  def student(unobject):\n",
        "    print(\"Hello, my name is \" + unobject.fname + \" \" + unobject.lname + \" and I am \" + str(unobject.age) + \" yeras old\")\n",
        "\n",
        "p2 = student(\"Chuhadriy\", \"Zulqrnain\", 21)\n",
        "p2.student()"
      ],
      "metadata": {
        "colab": {
          "base_uri": "https://localhost:8080/"
        },
        "id": "lC5eM7Cto_Ht",
        "outputId": "09bf6b96-1282-4d3a-b5ea-169f2cc2ba4b"
      },
      "execution_count": 47,
      "outputs": [
        {
          "output_type": "stream",
          "name": "stdout",
          "text": [
            "Hello, my name is Chuhadriy Zulqrnain and I am 21 yeras old\n"
          ]
        }
      ]
    },
    {
      "cell_type": "markdown",
      "source": [
        "# Modify Object Properties\n",
        "You can modify properties on objects like this:"
      ],
      "metadata": {
        "id": "Q0qeaVwqqzOp"
      }
    },
    {
      "cell_type": "code",
      "source": [
        "class student :\n",
        "  def __init__(object, fname, lname, age):\n",
        "    object.fname = fname\n",
        "    object.lname = lname\n",
        "    object.age = age\n",
        "\n",
        "  def student(unobject):\n",
        "    print(\"Hello, my name is \" + unobject.fname + \" \" + unobject.lname + \" and I am \" + str(unobject.age) + \" yeras old\")\n",
        "\n",
        "p2 = student(\"Chuhadriy\", \"Zulqrnain\", 21)\n",
        "\n",
        "# Modify age\n",
        "p2.age = 22\n",
        "print(p2.age)"
      ],
      "metadata": {
        "colab": {
          "base_uri": "https://localhost:8080/"
        },
        "id": "0SMWFa6dprZ7",
        "outputId": "9c5de035-b452-47f8-e873-7046e1110056"
      },
      "execution_count": 48,
      "outputs": [
        {
          "output_type": "stream",
          "name": "stdout",
          "text": [
            "22\n"
          ]
        }
      ]
    },
    {
      "cell_type": "code",
      "source": [
        "class teacher:\n",
        "  def __init__(self, fname, lname, subject):\n",
        "    self.fname = fname\n",
        "    self.lname = lname\n",
        "    self.subject = subject\n",
        "\n",
        "  def teacher(unobject):\n",
        "    print(\"Hello, my name is \" + unobject.fname + \" \" + unobject.lname + \" and I teach \" + unobject.subject)\n",
        "\n",
        "p1 = teacher(\"John\", \"Doe\", \"Math\")\n",
        "# p1.teacher()\n",
        "# Modify subject\n",
        "p1.subject = \"Science\"\n",
        "print(p1.subject)"
      ],
      "metadata": {
        "colab": {
          "base_uri": "https://localhost:8080/"
        },
        "id": "MTs5hcMcrSdK",
        "outputId": "d5d0703c-8da6-4b07-9872-a1bde4999401"
      },
      "execution_count": 53,
      "outputs": [
        {
          "output_type": "stream",
          "name": "stdout",
          "text": [
            "Science\n"
          ]
        }
      ]
    },
    {
      "cell_type": "markdown",
      "source": [
        "# Delete Objects\n",
        "You can delete objects by using the del keyword:"
      ],
      "metadata": {
        "id": "oqSKrYBvwyGP"
      }
    },
    {
      "cell_type": "code",
      "source": [
        "class Person:\n",
        "  def __init__(self, name, age):\n",
        "    self.name = name\n",
        "    self.age = age\n",
        "\n",
        "  def myfunc(self):\n",
        "    print(\"Hello my name is \" + self.name)\n",
        "\n",
        "p1 = Person(\"John\", 36)\n",
        "\n",
        "del p1\n",
        "\n",
        "print(p1)"
      ],
      "metadata": {
        "colab": {
          "base_uri": "https://localhost:8080/",
          "height": 208
        },
        "id": "eG0Z07GIzHzA",
        "outputId": "cf2b5bd9-1456-42a1-992b-933fda315d63"
      },
      "execution_count": 54,
      "outputs": [
        {
          "output_type": "error",
          "ename": "NameError",
          "evalue": "ignored",
          "traceback": [
            "\u001b[0;31m---------------------------------------------------------------------------\u001b[0m",
            "\u001b[0;31mNameError\u001b[0m                                 Traceback (most recent call last)",
            "\u001b[0;32m<ipython-input-54-8d9ca57d628a>\u001b[0m in \u001b[0;36m<cell line: 13>\u001b[0;34m()\u001b[0m\n\u001b[1;32m     11\u001b[0m \u001b[0;32mdel\u001b[0m \u001b[0mp1\u001b[0m\u001b[0;34m\u001b[0m\u001b[0;34m\u001b[0m\u001b[0m\n\u001b[1;32m     12\u001b[0m \u001b[0;34m\u001b[0m\u001b[0m\n\u001b[0;32m---> 13\u001b[0;31m \u001b[0mprint\u001b[0m\u001b[0;34m(\u001b[0m\u001b[0mp1\u001b[0m\u001b[0;34m)\u001b[0m\u001b[0;34m\u001b[0m\u001b[0;34m\u001b[0m\u001b[0m\n\u001b[0m",
            "\u001b[0;31mNameError\u001b[0m: name 'p1' is not defined"
          ]
        }
      ]
    },
    {
      "cell_type": "code",
      "source": [
        "class Person:\n",
        "    def __init__(self, name, age):\n",
        "        self.name = name\n",
        "        self.age = age\n",
        "\n",
        "    def myfunc(self):\n",
        "        print(\"Hello, my name is \" + self.name)\n",
        "\n",
        "p1 = Person(\"John\", 36)\n",
        "\n",
        "# No need to delete p1\n",
        "\n",
        "print(p1)"
      ],
      "metadata": {
        "colab": {
          "base_uri": "https://localhost:8080/"
        },
        "id": "8R-efalOztDd",
        "outputId": "5c7f031c-a01c-4297-c082-f274f66536b3"
      },
      "execution_count": 55,
      "outputs": [
        {
          "output_type": "stream",
          "name": "stdout",
          "text": [
            "<__main__.Person object at 0x7f7b51961300>\n"
          ]
        }
      ]
    },
    {
      "cell_type": "markdown",
      "source": [
        "# The pass Statement\n",
        "class definitions cannot be empty, but if you for some reason have a class definition with no content, put in the pass statement to avoid getting an error."
      ],
      "metadata": {
        "id": "pyIbA7wuz5jw"
      }
    },
    {
      "cell_type": "code",
      "source": [
        "class Person:\n",
        "  pass\n",
        "\n",
        "# having an empty class definition like this, would raise an error without the pass statement\n"
      ],
      "metadata": {
        "id": "A_rDyaDSzyy-"
      },
      "execution_count": 56,
      "outputs": []
    }
  ]
}