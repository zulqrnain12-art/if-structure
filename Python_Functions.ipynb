{
  "nbformat": 4,
  "nbformat_minor": 0,
  "metadata": {
    "colab": {
      "provenance": []
    },
    "kernelspec": {
      "name": "python3",
      "display_name": "Python 3"
    },
    "language_info": {
      "name": "python"
    }
  },
  "cells": [
    {
      "cell_type": "markdown",
      "source": [
        "# Python Functions"
      ],
      "metadata": {
        "id": "5Jxz1Vjv4UOk"
      }
    },
    {
      "cell_type": "markdown",
      "source": [
        "A function is a block of code which only runs when it is called.\n",
        "\n",
        "You can pass data, known as parameters, into a function.\n",
        "\n",
        "A function can return data as a result."
      ],
      "metadata": {
        "id": "dMHVPhfR4Y6k"
      }
    },
    {
      "cell_type": "markdown",
      "source": [
        "# Creating a Function\n",
        "In Python a function is defined using the def keyword:"
      ],
      "metadata": {
        "id": "DtO_HuU94dbA"
      }
    },
    {
      "cell_type": "code",
      "execution_count": 1,
      "metadata": {
        "id": "dRWszhMn4OcB"
      },
      "outputs": [],
      "source": [
        "def my_function() :\n",
        "  print(\"Artificial Intelligence\")"
      ]
    },
    {
      "cell_type": "markdown",
      "source": [
        "# Calling a Function\n",
        "To call a function, use the function name followed by parenthesis:"
      ],
      "metadata": {
        "id": "cdDS_j8245LV"
      }
    },
    {
      "cell_type": "code",
      "source": [
        "my_function()"
      ],
      "metadata": {
        "colab": {
          "base_uri": "https://localhost:8080/"
        },
        "id": "AhI6qcqz490P",
        "outputId": "5665322e-b53d-45ce-b843-30be7a1d0f91"
      },
      "execution_count": 2,
      "outputs": [
        {
          "output_type": "stream",
          "name": "stdout",
          "text": [
            "Artificial Intelligence\n"
          ]
        }
      ]
    },
    {
      "cell_type": "code",
      "source": [
        "def my_fuction():\n",
        "  print(\"Machine Learning\")\n",
        "\n",
        "my_fuction()"
      ],
      "metadata": {
        "colab": {
          "base_uri": "https://localhost:8080/"
        },
        "id": "HjUaHXvW5Dzu",
        "outputId": "f300300e-4dff-46be-b29e-ebb639f130fd"
      },
      "execution_count": 3,
      "outputs": [
        {
          "output_type": "stream",
          "name": "stdout",
          "text": [
            "Machine Learning\n"
          ]
        }
      ]
    },
    {
      "cell_type": "code",
      "source": [
        "def student() :\n",
        "  print(\"John\")\n",
        "student()"
      ],
      "metadata": {
        "colab": {
          "base_uri": "https://localhost:8080/"
        },
        "id": "CGhVk0fU5UOg",
        "outputId": "470024c0-35c4-4870-d13a-0625741f44c9"
      },
      "execution_count": 5,
      "outputs": [
        {
          "output_type": "stream",
          "name": "stdout",
          "text": [
            "John\n"
          ]
        }
      ]
    },
    {
      "cell_type": "markdown",
      "source": [
        "# Arguments\n",
        "Information can be passed into functions as arguments.\n",
        "\n",
        "Arguments are specified after the function name, inside the parentheses. You can add as many arguments as you want, just separate them with a comma.\n",
        "\n",
        "The following example has a function with one argument (fname). When the function is called, we pass along a first name, which is used inside the function to print the full name:"
      ],
      "metadata": {
        "id": "U4D-gmqR5PXI"
      }
    },
    {
      "cell_type": "code",
      "source": [
        "def student(fname)  :\n",
        "  print(\"Hello, \" + fname)\n",
        "\n",
        "student(\"Alice\")\n",
        "student(\"Ahmar\")"
      ],
      "metadata": {
        "colab": {
          "base_uri": "https://localhost:8080/"
        },
        "id": "lNRpbT205Rzx",
        "outputId": "b53e843b-6e23-4984-b418-eb1346420a28"
      },
      "execution_count": 9,
      "outputs": [
        {
          "output_type": "stream",
          "name": "stdout",
          "text": [
            "Hello, Alice\n",
            "Hello, Ahmar\n"
          ]
        }
      ]
    },
    {
      "cell_type": "code",
      "source": [
        "def student(fname, lname) :\n",
        "  print(\"Hello, \" + fname + \" \" + lname)\n",
        "\n",
        "student(\"John\", \"Doe\")\n",
        "student(\"Jane\", \"Smith\")"
      ],
      "metadata": {
        "colab": {
          "base_uri": "https://localhost:8080/"
        },
        "id": "Us5AFmGh6Zwl",
        "outputId": "4431a9eb-21da-4074-82d4-9ea8fe2b69d7"
      },
      "execution_count": 10,
      "outputs": [
        {
          "output_type": "stream",
          "name": "stdout",
          "text": [
            "Hello, John Doe\n",
            "Hello, Jane Smith\n"
          ]
        }
      ]
    },
    {
      "cell_type": "markdown",
      "source": [
        "# Parameters or Arguments?\n",
        "The terms parameter and argument can be used for the same thing: information that are passed into a function.\n",
        "\n",
        "From a function's perspective:\n",
        "\n",
        "A parameter is the variable listed inside the parentheses in the function definition.\n",
        "\n",
        "An argument is the value that is sent to the function when it is called."
      ],
      "metadata": {
        "id": "SINUBrCS6U76"
      }
    },
    {
      "cell_type": "markdown",
      "source": [
        "# Number of Arguments\n",
        "By default, a function must be called with the correct number of arguments. Meaning that if your function expects 2 arguments, you have to call the function with 2 arguments, not more, and not less."
      ],
      "metadata": {
        "id": "Qbs-C5VL6yuv"
      }
    },
    {
      "cell_type": "code",
      "source": [
        "def student(fname, lname) :\n",
        "  print(\"Hello, \" + fname + \" \" + lname)\n",
        "\n",
        "student(\"John\", \"Doe\")\n",
        "student(\"Jane\", \"Smith\")"
      ],
      "metadata": {
        "colab": {
          "base_uri": "https://localhost:8080/"
        },
        "id": "BN0n0IlX6XxF",
        "outputId": "0fecc39e-a423-428a-b4ef-77ddcef52985"
      },
      "execution_count": 12,
      "outputs": [
        {
          "output_type": "stream",
          "name": "stdout",
          "text": [
            "Hello, John Doe\n",
            "Hello, Jane Smith\n"
          ]
        }
      ]
    },
    {
      "cell_type": "code",
      "source": [
        "def student(fname, lname, email):\n",
        "  print(\"Hello, \" + fname + \" \" + lname + \" \" + email)\n",
        "\n",
        "student(\"John\", \"Doe\", \"john.doe@example.com\")\n",
        "student(\"Jane\", \"Smith\", \"jane.smith@example.com\")"
      ],
      "metadata": {
        "colab": {
          "base_uri": "https://localhost:8080/"
        },
        "id": "B6uLwDe569fK",
        "outputId": "b0b8091b-35f1-4e23-ca6c-d10a3b2e1c7e"
      },
      "execution_count": 13,
      "outputs": [
        {
          "output_type": "stream",
          "name": "stdout",
          "text": [
            "Hello, John Doe john.doe@example.com\n",
            "Hello, Jane Smith jane.smith@example.com\n"
          ]
        }
      ]
    },
    {
      "cell_type": "code",
      "source": [
        "def student(fname, lname, email, phone) :\n",
        "  print(\"Hello, \" + fname + \" \" + lname + \" \" + email + \" \" + phone)\n",
        "\n",
        "student(\"John\", \"Doe\", \"john.doe@example.com\", \"123-456-7890\")\n",
        "student(\"Jane\", \"Smith\", \"jane.smith@example.com\", \"987-654-3210\")"
      ],
      "metadata": {
        "colab": {
          "base_uri": "https://localhost:8080/"
        },
        "id": "CID8m7Zv7yQT",
        "outputId": "434f714d-f3e6-4e25-bb91-085909ac0f43"
      },
      "execution_count": 14,
      "outputs": [
        {
          "output_type": "stream",
          "name": "stdout",
          "text": [
            "Hello, John Doe john.doe@example.com 123-456-7890\n",
            "Hello, Jane Smith jane.smith@example.com 987-654-3210\n"
          ]
        }
      ]
    },
    {
      "cell_type": "markdown",
      "source": [
        "# Arbitrary Arguments, *args\n",
        "If you do not know how many arguments that will be passed into your function, add a * before the parameter name in the function definition.\n",
        "\n",
        "This way the function will receive a tuple of arguments, and can access the items accordingly:"
      ],
      "metadata": {
        "id": "pgEnhiMu8G5s"
      }
    },
    {
      "cell_type": "code",
      "source": [
        "def student(*student) :\n",
        "  print(\"the youngest student is \" + student[1])\n",
        "\n",
        "student(\"Iqbal\", \"zulqrnain\", \"Ahmar\")"
      ],
      "metadata": {
        "colab": {
          "base_uri": "https://localhost:8080/"
        },
        "id": "wYrVYCcm8Gaz",
        "outputId": "0be098d9-bcc1-4af8-8b21-6f654edb0943"
      },
      "execution_count": 19,
      "outputs": [
        {
          "output_type": "stream",
          "name": "stdout",
          "text": [
            "the youngest student is zulqrnain\n"
          ]
        }
      ]
    },
    {
      "cell_type": "code",
      "source": [
        "def student(*programmer):\n",
        "  print(\"The youngest programmer is \" + programmer[2])\n",
        "\n",
        "student(\"Ahmar\", \"Zulqrnain\", \"Abdul jabbar\")"
      ],
      "metadata": {
        "colab": {
          "base_uri": "https://localhost:8080/"
        },
        "id": "OKnk7uWt9TNU",
        "outputId": "1c7e2661-db91-4bfd-d1cb-cf8a2121482f"
      },
      "execution_count": 22,
      "outputs": [
        {
          "output_type": "stream",
          "name": "stdout",
          "text": [
            "The youngest programmer is Abdul jabbar\n"
          ]
        }
      ]
    },
    {
      "cell_type": "markdown",
      "source": [
        "# Note:\n",
        "Arbitrary Arguments are often shortened to *args in Python documentations."
      ],
      "metadata": {
        "id": "gUvUCflO98ui"
      }
    },
    {
      "cell_type": "markdown",
      "source": [
        "# Keyword Arguments\n",
        "You can also send arguments with the key = value syntax.\n",
        "\n",
        "This way the order of the arguments does not matter."
      ],
      "metadata": {
        "id": "r5OqmLWG-Cmy"
      }
    },
    {
      "cell_type": "code",
      "source": [
        "def student(student1, student2, student3) :\n",
        "  print(\"The youngest student is \" + student2)\n",
        "\n",
        "student(student1 = \"Zulqrnain\", student2 = \"Ahmar\", student3 = \"Abdul jabbar\")"
      ],
      "metadata": {
        "colab": {
          "base_uri": "https://localhost:8080/"
        },
        "id": "K5Pk9A1o-F0C",
        "outputId": "fa5c7257-88a7-4ef7-9166-e3737886c97a"
      },
      "execution_count": 24,
      "outputs": [
        {
          "output_type": "stream",
          "name": "stdout",
          "text": [
            "The youngest student is Ahmar\n"
          ]
        }
      ]
    },
    {
      "cell_type": "markdown",
      "source": [
        "# Arbitrary Keyword Arguments, **kwargs\n",
        "If you do not know how many keyword arguments that will be passed into your function, add two asterisk: ** before the parameter name in the function definition.\n",
        "\n",
        "This way the function will receive a dictionary of arguments, and can access the items accordingly:"
      ],
      "metadata": {
        "id": "FeOXBYN__YIs"
      }
    },
    {
      "cell_type": "code",
      "source": [
        "def student(**student):\n",
        "  print(\"The youngest student is \" + student[\"lname\"])\n",
        "\n",
        "student(fnmae = \"Hamza\", lname = \"Ali\")"
      ],
      "metadata": {
        "colab": {
          "base_uri": "https://localhost:8080/"
        },
        "id": "8C65TK4D_agw",
        "outputId": "25117970-f1bd-4d7d-a145-a177708bf71f"
      },
      "execution_count": 25,
      "outputs": [
        {
          "output_type": "stream",
          "name": "stdout",
          "text": [
            "The youngest student is Ali\n"
          ]
        }
      ]
    },
    {
      "cell_type": "code",
      "source": [
        "def student(**student):\n",
        "  print(\"The youngest student is \" + student[\"fname\"])\n",
        "\n",
        "student(fname = \"Hamza\", lname = \"Ali\")"
      ],
      "metadata": {
        "colab": {
          "base_uri": "https://localhost:8080/"
        },
        "id": "_ppoVcoN__X6",
        "outputId": "c44eab8f-b5a6-49f2-a2a6-ae109e24a6f6"
      },
      "execution_count": 30,
      "outputs": [
        {
          "output_type": "stream",
          "name": "stdout",
          "text": [
            "The youngest student is Hamza\n"
          ]
        }
      ]
    },
    {
      "cell_type": "markdown",
      "source": [
        "# Default Parameter Value\n",
        "The following example shows how to use a default parameter value.\n",
        "\n",
        "If we call the function without argument, it uses the default value:"
      ],
      "metadata": {
        "id": "Dqv2_llRAah7"
      }
    },
    {
      "cell_type": "code",
      "source": [
        "def country(country = \"Pakistan\") :\n",
        "  print(\"I am from \" + country)\n",
        "\n",
        "country(\"USA\")\n",
        "country(\"india\")\n",
        "country()\n",
        "country(\"Swedan\")"
      ],
      "metadata": {
        "colab": {
          "base_uri": "https://localhost:8080/"
        },
        "id": "5RWTGyAQAcvb",
        "outputId": "7ad10222-f615-4255-db36-6bdfe522ef25"
      },
      "execution_count": 31,
      "outputs": [
        {
          "output_type": "stream",
          "name": "stdout",
          "text": [
            "I am from USA\n",
            "I am from india\n",
            "I am from Pakistan\n",
            "I am from Swedan\n"
          ]
        }
      ]
    },
    {
      "cell_type": "code",
      "source": [
        "def student(student = \"Ali\") :\n",
        "  print(\"My name is \" + student)\n",
        "\n",
        "student(\"Hamza\")\n",
        "student(\"Abdul jabbar\")\n",
        "student()\n",
        "student(\"Zulqrnain\")"
      ],
      "metadata": {
        "colab": {
          "base_uri": "https://localhost:8080/"
        },
        "id": "xH8xqM7uBPIA",
        "outputId": "11c7f26f-95c9-49ad-d8e1-9c8a518711bd"
      },
      "execution_count": 32,
      "outputs": [
        {
          "output_type": "stream",
          "name": "stdout",
          "text": [
            "My name is Hamza\n",
            "My name is Abdul jabbar\n",
            "My name is Ali\n",
            "My name is Zulqrnain\n"
          ]
        }
      ]
    },
    {
      "cell_type": "markdown",
      "source": [
        "# Passing a List as an Argument\n",
        "You can send any data types of argument to a function (string, number, list, dictionary etc.), and it will be treated as the same data type inside the function.\n",
        "\n",
        "E.g. if you send a List as an argument, it will still be a List when it reaches the function:"
      ],
      "metadata": {
        "id": "-PZwgH9-BGjD"
      }
    },
    {
      "cell_type": "code",
      "source": [
        "def food(food) :\n",
        "  for x in food :\n",
        "     print(x)\n",
        "\n",
        "fruits = [\"apple\", \"banana\", \"cherry\"]\n",
        "\n",
        "food(fruits)"
      ],
      "metadata": {
        "colab": {
          "base_uri": "https://localhost:8080/"
        },
        "id": "umQDLfGRBNDO",
        "outputId": "da7e66fc-4562-4c3b-a07c-df8960c58ab3"
      },
      "execution_count": 40,
      "outputs": [
        {
          "output_type": "stream",
          "name": "stdout",
          "text": [
            "apple\n",
            "banana\n",
            "cherry\n"
          ]
        }
      ]
    },
    {
      "cell_type": "code",
      "source": [
        "def  student(student) :\n",
        "  for x in student :\n",
        "    print(x)\n",
        "\n",
        "students = [\"Ahmar\", \"Zulqrnain\", \"Abdul jabbar\"]\n",
        "student(students)"
      ],
      "metadata": {
        "colab": {
          "base_uri": "https://localhost:8080/"
        },
        "id": "S7cD2hsHC5qc",
        "outputId": "2422005d-8692-47fa-a681-82ce7675e6e0"
      },
      "execution_count": 41,
      "outputs": [
        {
          "output_type": "stream",
          "name": "stdout",
          "text": [
            "Ahmar\n",
            "Zulqrnain\n",
            "Abdul jabbar\n"
          ]
        }
      ]
    },
    {
      "cell_type": "markdown",
      "source": [
        "# Return Values\n",
        "To let a function return a value, use the return statement:"
      ],
      "metadata": {
        "id": "9TWgRIsxDUzJ"
      }
    },
    {
      "cell_type": "code",
      "source": [
        "def math(x) :\n",
        "  return 8 * x\n",
        "\n",
        "print(math(5))\n",
        "print(math(7))\n",
        "print(math(3))"
      ],
      "metadata": {
        "colab": {
          "base_uri": "https://localhost:8080/"
        },
        "id": "FQPgZlO4DXdn",
        "outputId": "4a963259-bae2-489a-cf2b-185b8ddcb246"
      },
      "execution_count": 42,
      "outputs": [
        {
          "output_type": "stream",
          "name": "stdout",
          "text": [
            "40\n",
            "56\n",
            "24\n"
          ]
        }
      ]
    },
    {
      "cell_type": "code",
      "source": [
        "# using + operator\n",
        "def math(x) :\n",
        "  return 8 + x\n",
        "\n",
        "print(math(5))\n",
        "print(math(7))\n",
        "print(math(3))"
      ],
      "metadata": {
        "colab": {
          "base_uri": "https://localhost:8080/"
        },
        "id": "Vp1yrYGZD66E",
        "outputId": "5e2db3c6-69db-4d1a-9857-ba7a094320aa"
      },
      "execution_count": 43,
      "outputs": [
        {
          "output_type": "stream",
          "name": "stdout",
          "text": [
            "13\n",
            "15\n",
            "11\n"
          ]
        }
      ]
    },
    {
      "cell_type": "code",
      "source": [
        "# using - operator\n",
        "def math(x) :\n",
        "  return 8 - x\n",
        "\n",
        "print(math(5))\n",
        "print(math(7))\n",
        "print(math(3))"
      ],
      "metadata": {
        "colab": {
          "base_uri": "https://localhost:8080/"
        },
        "id": "ul39p5fREBDF",
        "outputId": "a29ba996-9470-40db-f9f5-71813f4c532e"
      },
      "execution_count": 45,
      "outputs": [
        {
          "output_type": "stream",
          "name": "stdout",
          "text": [
            "3\n",
            "1\n",
            "5\n"
          ]
        }
      ]
    },
    {
      "cell_type": "code",
      "source": [
        "# using % operator\n",
        "def math(x) :\n",
        "  return 8 % x\n",
        "\n",
        "print(math(5))\n",
        "print(math(7))\n",
        "print(math(3))"
      ],
      "metadata": {
        "colab": {
          "base_uri": "https://localhost:8080/"
        },
        "id": "GXkkp7jLEL9S",
        "outputId": "79d41d8e-a0af-40df-876f-c0a63072ba52"
      },
      "execution_count": 46,
      "outputs": [
        {
          "output_type": "stream",
          "name": "stdout",
          "text": [
            "3\n",
            "1\n",
            "2\n"
          ]
        }
      ]
    },
    {
      "cell_type": "code",
      "source": [
        "# using / operator\n",
        "def math(x) :\n",
        "  return 8 / x\n",
        "\n",
        "print(math(5))\n",
        "print(math(7))\n",
        "print(math(3))"
      ],
      "metadata": {
        "colab": {
          "base_uri": "https://localhost:8080/"
        },
        "id": "waXTb_tYEQ89",
        "outputId": "fe57cf7e-c299-414c-ee2d-923b173950b9"
      },
      "execution_count": 47,
      "outputs": [
        {
          "output_type": "stream",
          "name": "stdout",
          "text": [
            "1.6\n",
            "1.1428571428571428\n",
            "2.6666666666666665\n"
          ]
        }
      ]
    },
    {
      "cell_type": "markdown",
      "source": [
        "# The pass Statement\n",
        "function definitions cannot be empty, but if you for some reason have a function definition with no content, put in the pass statement to avoid getting an error."
      ],
      "metadata": {
        "id": "zgUgG9s_EoSn"
      }
    },
    {
      "cell_type": "code",
      "source": [
        "def student() :\n",
        "  pass\n",
        "\n",
        "# # having an empty function definition like this, would raise an error without the pass statement\n"
      ],
      "metadata": {
        "id": "myVfMEEEEqVY"
      },
      "execution_count": 48,
      "outputs": []
    },
    {
      "cell_type": "markdown",
      "source": [
        "# Recursion\n",
        "Python also accepts function recursion, which means a defined function can call itself.\n",
        "\n",
        "Recursion is a common mathematical and programming concept. It means that a function calls itself. This has the benefit of meaning that you can loop through data to reach a result.\n",
        "\n",
        "The developer should be very careful with recursion as it can be quite easy to slip into writing a function which never terminates, or one that uses excess amounts of memory or processor power. However, when written correctly recursion can be a very efficient and mathematically-elegant approach to programming.\n",
        "\n",
        "In this example, tri_recursion() is a function that we have defined to call itself (\"recurse\"). We use the k variable as the data, which decrements (-1) every time we recurse. The recursion ends when the condition is not greater than 0 (i.e. when it is 0).\n",
        "\n",
        "To a new developer it can take some time to work out how exactly this works, best way to find out is by testing and modifying it."
      ],
      "metadata": {
        "id": "tfLB5d7WE7JT"
      }
    },
    {
      "cell_type": "code",
      "source": [
        "def tri_recursion(k):\n",
        "  if(k > 0):\n",
        "    result = k + tri_recursion(k - 1)\n",
        "    print(result)\n",
        "  else:\n",
        "    result = 0\n",
        "  return result\n",
        "\n",
        "print(\"\\n\\nRecursion Example Results\")\n",
        "tri_recursion(6)\n"
      ],
      "metadata": {
        "colab": {
          "base_uri": "https://localhost:8080/"
        },
        "id": "vC0PSwo8GmD-",
        "outputId": "80e4cc43-88dc-441a-ddec-b28062523c4c"
      },
      "execution_count": 58,
      "outputs": [
        {
          "output_type": "stream",
          "name": "stdout",
          "text": [
            "\n",
            "\n",
            "Recursion Example Results\n",
            "1\n",
            "3\n",
            "6\n",
            "10\n",
            "15\n",
            "21\n"
          ]
        },
        {
          "output_type": "execute_result",
          "data": {
            "text/plain": [
              "21"
            ]
          },
          "metadata": {},
          "execution_count": 58
        }
      ]
    }
  ]
}