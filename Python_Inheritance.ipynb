{
  "nbformat": 4,
  "nbformat_minor": 0,
  "metadata": {
    "colab": {
      "provenance": []
    },
    "kernelspec": {
      "name": "python3",
      "display_name": "Python 3"
    },
    "language_info": {
      "name": "python"
    }
  },
  "cells": [
    {
      "cell_type": "markdown",
      "source": [
        "# Python Inheritance\n",
        "Inheritance allows us to define a class that inherits all the methods and properties from another class.\n",
        "\n",
        "**Parent class** is the class being inherited from, also called base class.\n",
        "\n",
        "**Child class** is the class that inherits from another class, also called derived class."
      ],
      "metadata": {
        "id": "m8Xz1f312XiA"
      }
    },
    {
      "cell_type": "markdown",
      "source": [
        "# Create a Parent Class\n",
        "Any class can be a parent class, so the syntax is the same as creating any other class:"
      ],
      "metadata": {
        "id": "hpRTnRle2uRL"
      }
    },
    {
      "cell_type": "code",
      "execution_count": 6,
      "metadata": {
        "colab": {
          "base_uri": "https://localhost:8080/"
        },
        "id": "4zRdlFUR2K4f",
        "outputId": "9c54257e-0a85-4111-f1b6-d801d67c4883"
      },
      "outputs": [
        {
          "output_type": "stream",
          "name": "stdout",
          "text": [
            "Chuhadriy Zulqrnain\n"
          ]
        }
      ],
      "source": [
        "# Create a class named Person, with firstname and lastname properties, and a printname method:\n",
        "\n",
        "class person :\n",
        "  def __init__(self, fname, lname):\n",
        "    self.firstname = fname\n",
        "    self.lastname = lname\n",
        "\n",
        "  def printname(self):\n",
        "    print(self.firstname, self.lastname)\n",
        "\n",
        "x = person(\"Chuhadriy\", \"Zulqrnain\")\n",
        "x.printname()"
      ]
    },
    {
      "cell_type": "code",
      "source": [
        "class student :\n",
        "  def __init__(self, fname, lname):\n",
        "    self.firstname = fname\n",
        "    self.lastname = lname\n",
        "\n",
        "  def printname(self):\n",
        "    print(self.firstname, self.lastname)\n",
        "\n",
        "x1 = student(\"Ahmar\", \"Saleem\")\n",
        "x1.printname()"
      ],
      "metadata": {
        "colab": {
          "base_uri": "https://localhost:8080/"
        },
        "id": "qIVLT6Dh64PA",
        "outputId": "2c704d23-9c8c-4c70-d8b2-50f18cf61c39"
      },
      "execution_count": 8,
      "outputs": [
        {
          "output_type": "stream",
          "name": "stdout",
          "text": [
            "Ahmar Saleem\n"
          ]
        }
      ]
    },
    {
      "cell_type": "markdown",
      "source": [
        "# Create a Child Class\n",
        "To create a class that inherits the functionality from another class, send the parent class as a parameter when creating the child class:"
      ],
      "metadata": {
        "id": "WAw1BzdC7mKP"
      }
    },
    {
      "cell_type": "code",
      "source": [
        "# Create a class named Student, which will inherit the properties and methods from the Person class:\n",
        "\n",
        "# class student(person):\n",
        "#   pass\n",
        "\n",
        "# Note: Use the pass keyword when you do not want to add any other properties or methods to the class.\n",
        "# Now the Student class has the same properties and methods as the Person class.\n",
        "\n",
        "# Use the Student class to create an object, and then execute the printname method:?\n",
        "\n",
        "class student :\n",
        "  def __init__(self, fname, lname):\n",
        "    self.firstname = fname\n",
        "    self.lastname = lname\n",
        "\n",
        "  def printname(self):\n",
        "    print(self.firstname, self.lastname)\n",
        "\n",
        "class student(person):\n",
        "  pass# Now the Student class has inherited the properties and methods from the Person class.\n",
        "\n",
        "x2 = student(\"John\", \"Doe\")\n",
        "x2.printname()"
      ],
      "metadata": {
        "colab": {
          "base_uri": "https://localhost:8080/"
        },
        "id": "attStfvb7y0Y",
        "outputId": "ee122dfe-4b52-4676-dfaa-1f8fad20f3bc"
      },
      "execution_count": 10,
      "outputs": [
        {
          "output_type": "stream",
          "name": "stdout",
          "text": [
            "John Doe\n"
          ]
        }
      ]
    },
    {
      "cell_type": "markdown",
      "source": [
        "# Add the __init__() Function\n",
        "So far we have created a child class that inherits the properties and methods from its parent.\n",
        "\n",
        "We want to add the __init__() function to the child class (instead of the pass keyword)."
      ],
      "metadata": {
        "id": "GuWnn5mb9OUk"
      }
    },
    {
      "cell_type": "code",
      "source": [
        "# Note: The __init__() function is called automatically every time the class\n",
        "#  is being used to create a new object\n",
        "\n",
        "# To keep the inheritance of the parent's __init__() function, add a call to the parent's __init__() function:\n",
        "\n",
        "class person :\n",
        "  def __init__(self, fname, lname):\n",
        "    self.firstname = fname\n",
        "    self.lastname = lname\n",
        "\n",
        "  def printname(self):\n",
        "    print(self.firstname, self.lastname)\n",
        "\n",
        "class student(person):\n",
        "  def __init__(self, fname, lname):\n",
        "    super().__init__(fname, lname)\n",
        "\n",
        "x2 = student(\"John\", \"Doe\")\n",
        "x2.printname()\n",
        "\n",
        "# Now we have successfully added the __init__() function, and kept the\n",
        "# inheritance of the parent class, and we are ready to add functionality\n",
        "# in the __init__() function."
      ],
      "metadata": {
        "colab": {
          "base_uri": "https://localhost:8080/"
        },
        "id": "HXc4Fxzo9TfP",
        "outputId": "d6a5658a-0b6a-4b42-8f5d-bc934958392a"
      },
      "execution_count": 11,
      "outputs": [
        {
          "output_type": "stream",
          "name": "stdout",
          "text": [
            "John Doe\n"
          ]
        }
      ]
    },
    {
      "cell_type": "markdown",
      "source": [
        "# Use the super() Function\n",
        "Python also has a super() function that will make the child class inherit all the methods and properties from its parent:"
      ],
      "metadata": {
        "id": "OlDfy1ub-uxK"
      }
    },
    {
      "cell_type": "code",
      "source": [
        "class person :\n",
        "  def __init__(self, fname, lname):\n",
        "    self.firstname = fname\n",
        "    self.lastname = lname\n",
        "\n",
        "  def printname(self):\n",
        "    print(self.firstname, self.lastname)\n",
        "\n",
        "class student(person):\n",
        "  def __init__(self, fname, lname):\n",
        "    super().__init__(fname, lname)\n",
        "\n",
        "x2 = student(\"Ali\", \"Hamza\")\n",
        "x2.printname()\n",
        "\n",
        "# By using the super() function, you do not have to use the name of the parent\n",
        "# element, it will automatically inherit the methods and properties from its parent."
      ],
      "metadata": {
        "colab": {
          "base_uri": "https://localhost:8080/"
        },
        "id": "PlTR2WgG-uVH",
        "outputId": "334ba5ef-3d9f-4a4d-8275-68b946fc62f0"
      },
      "execution_count": 12,
      "outputs": [
        {
          "output_type": "stream",
          "name": "stdout",
          "text": [
            "Ali Hamza\n"
          ]
        }
      ]
    },
    {
      "cell_type": "markdown",
      "source": [
        "# Add Properties"
      ],
      "metadata": {
        "id": "Utt33wJC_OJx"
      }
    },
    {
      "cell_type": "code",
      "source": [
        "class person :\n",
        "  def __init__(self, fname, lname):\n",
        "    self.firstname = fname\n",
        "    self.lastname = lname\n",
        "\n",
        "  def printname(self):\n",
        "    print(self.firstname, self.lastname)\n",
        "\n",
        "class student(person):\n",
        "  def __init__(self, fname, lname,):\n",
        "    super().__init__(fname, lname)\n",
        "    self.graduationyear = 2022\n",
        "\n",
        "# Now we have added the graduationyear attribute to the student class.\n",
        "x2 = student(\"John\", \"Doe\")\n",
        "print(x2.graduationyear)\n",
        "\n",
        "# In the example below, the year 2019 should be a variable, and passed into the\n",
        "#  Student class when creating student objects. To do so, add\n",
        "#   another parameter in the __init__() function:"
      ],
      "metadata": {
        "colab": {
          "base_uri": "https://localhost:8080/"
        },
        "id": "xM_3xzsE_B6c",
        "outputId": "91c01a15-954c-4c9b-e083-783f5b043a14"
      },
      "execution_count": 15,
      "outputs": [
        {
          "output_type": "stream",
          "name": "stdout",
          "text": [
            "2022\n"
          ]
        }
      ]
    },
    {
      "cell_type": "code",
      "source": [
        "# Add a year parameter, and pass the correct year when creating objects:\n",
        "\n",
        "class person :\n",
        "  def __init__(self, fname, lname):\n",
        "    self.firstname = fname\n",
        "    self.lastname = lname\n",
        "\n",
        "  def printname(self):\n",
        "    print(self.firstname, self.lastname)\n",
        "\n",
        "class student(person):\n",
        "  def __init__(self, fname, lname, year):\n",
        "    super().__init__(fname, lname)\n",
        "    self.graduationyear = year\n",
        "\n",
        "# Now we have added the year parameter to the student class.\n",
        "\n",
        "x = student(\"Jane\", \"Smith\", 2023)\n",
        "print(x.graduationyear)"
      ],
      "metadata": {
        "colab": {
          "base_uri": "https://localhost:8080/"
        },
        "id": "eDP4k9xbCGON",
        "outputId": "ffdd890c-e414-4c41-a8a6-2274ab58097d"
      },
      "execution_count": 16,
      "outputs": [
        {
          "output_type": "stream",
          "name": "stdout",
          "text": [
            "2023\n"
          ]
        }
      ]
    },
    {
      "cell_type": "code",
      "source": [
        "# Add a method called welcome to the Student class:\n",
        "\n",
        "class person :\n",
        "  def __init__(self, fname, lname):\n",
        "    self.firstname = fname\n",
        "    self.lastname = lname\n",
        "\n",
        "  def printname(self):\n",
        "    print(self.firstname, self.lastname)\n",
        "\n",
        "class student(person):\n",
        "  def __init__(self, fname, lname, year):\n",
        "    super().__init__(fname, lname)\n",
        "    self.graduationyear = year\n",
        "\n",
        "  def welcom(self):\n",
        "    print(\"Welcome\", self.firstname, self.lastname, \"to the class of\", self.graduationyear)\n",
        "\n",
        "# Add a method called welcome to the Student class:\n",
        "x = student(\"Chuhadriy\", \"Zulqrnain\", 2023)\n",
        "x.welcom()\n",
        "\n",
        "# If you add a method in the child class with the same name as a function\n",
        "#  in the parent class, the inheritance of the parent method will be overridden."
      ],
      "metadata": {
        "colab": {
          "base_uri": "https://localhost:8080/"
        },
        "id": "wncPfzvTDLA7",
        "outputId": "c0491a07-5d8a-4412-9781-5ea12ca6a555"
      },
      "execution_count": 17,
      "outputs": [
        {
          "output_type": "stream",
          "name": "stdout",
          "text": [
            "Welcome Chuhadriy Zulqrnain to the class of 2023\n"
          ]
        }
      ]
    }
  ]
}