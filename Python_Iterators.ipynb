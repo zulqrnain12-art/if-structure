{
  "nbformat": 4,
  "nbformat_minor": 0,
  "metadata": {
    "colab": {
      "provenance": []
    },
    "kernelspec": {
      "name": "python3",
      "display_name": "Python 3"
    },
    "language_info": {
      "name": "python"
    }
  },
  "cells": [
    {
      "cell_type": "markdown",
      "source": [
        "# Python Iterators\n",
        "An iterator is an object that contains a countable number of values.\n",
        "\n",
        "An iterator is an object that can be iterated upon, meaning that you can traverse through all the values.\n",
        "\n",
        "Technically, in Python, an iterator is an object which implements the iterator protocol, which consist of the methods __iter__() and __next__()."
      ],
      "metadata": {
        "id": "MgEMcvO2Fq_1"
      }
    },
    {
      "cell_type": "markdown",
      "source": [
        "# Iterator vs Iterable\n",
        "Lists, tuples, dictionaries, and sets are all iterable objects. They are iterable containers which you can get an iterator from.\n",
        "\n",
        "All these objects have a iter() method which is used to get an iterator:"
      ],
      "metadata": {
        "id": "Qc78tX70Fx-l"
      }
    },
    {
      "cell_type": "code",
      "execution_count": 1,
      "metadata": {
        "colab": {
          "base_uri": "https://localhost:8080/"
        },
        "id": "Y6fO1fQRFehA",
        "outputId": "5a3f6ef9-1346-40ca-e396-e36bd57bc27a"
      },
      "outputs": [
        {
          "output_type": "stream",
          "name": "stdout",
          "text": [
            "apple\n",
            "banana\n",
            "cherry\n"
          ]
        }
      ],
      "source": [
        "mytuple = (\"apple\", \"banana\", \"cherry\")\n",
        "# Accessing elements in a tuple\n",
        "myit = iter(mytuple)\n",
        "\n",
        "print(next(myit))\n",
        "print(next(myit))\n",
        "print(next(myit))"
      ]
    },
    {
      "cell_type": "code",
      "source": [
        "# Even strings are iterable objects, and can return an iterator:\n",
        "\n",
        "# Strings are also iterable objects, containing a sequence of characters\n",
        "\n",
        "mystr = \"I Love Pakistan\"\n",
        "myit = iter(mystr)\n",
        "\n",
        "print(next(myit))\n",
        "print(next(myit))\n",
        "print(next(myit))\n",
        "print(next(myit))\n",
        "print(next(myit))\n",
        "print(next(myit))\n",
        "print(next(myit))\n",
        "print(next(myit))\n",
        "print(next(myit))\n",
        "print(next(myit))\n",
        "print(next(myit))\n",
        "print(next(myit))\n",
        "print(next(myit))\n",
        "print(next(myit))\n",
        "print(next(myit))"
      ],
      "metadata": {
        "colab": {
          "base_uri": "https://localhost:8080/"
        },
        "id": "N6ja4kJSGhF3",
        "outputId": "58885eb8-42cd-49c9-97af-348b217ef2f8"
      },
      "execution_count": 4,
      "outputs": [
        {
          "output_type": "stream",
          "name": "stdout",
          "text": [
            "I\n",
            " \n",
            "L\n",
            "o\n",
            "v\n",
            "e\n",
            " \n",
            "P\n",
            "a\n",
            "k\n",
            "i\n",
            "s\n",
            "t\n",
            "a\n",
            "n\n"
          ]
        }
      ]
    },
    {
      "cell_type": "markdown",
      "source": [
        "# Looping Through an Iterator\n",
        "We can also use a for loop to iterate through an iterable object:"
      ],
      "metadata": {
        "id": "8_M8hkVjHMSb"
      }
    },
    {
      "cell_type": "code",
      "source": [
        "mytuple = (\"zulqrnain\", \"Ahmar\", \"Hamza\", \"ali\")\n",
        "\n",
        "for x in mytuple:\n",
        "  print(x)"
      ],
      "metadata": {
        "colab": {
          "base_uri": "https://localhost:8080/"
        },
        "id": "-4seTWspHJ6k",
        "outputId": "e6bc97c8-a7ce-4ede-e0aa-2a93caf735a1"
      },
      "execution_count": 5,
      "outputs": [
        {
          "output_type": "stream",
          "name": "stdout",
          "text": [
            "zulqrnain\n",
            "Ahmar\n",
            "Hamza\n",
            "ali\n"
          ]
        }
      ]
    },
    {
      "cell_type": "code",
      "source": [
        "# Accessing elements in a tuple\n",
        "mytuple = (\"zulqrnain\", \"Ahmar\", \"Hamza\", \"ali\", \"abdul jabbar\", \"Mudassir\")\n",
        "\n",
        "for i in mytuple:\n",
        "  print(i)"
      ],
      "metadata": {
        "colab": {
          "base_uri": "https://localhost:8080/"
        },
        "id": "ahqbkgWoH0d7",
        "outputId": "aa9db636-78a4-4130-a7b7-e71b51ff4478"
      },
      "execution_count": 6,
      "outputs": [
        {
          "output_type": "stream",
          "name": "stdout",
          "text": [
            "zulqrnain\n",
            "Ahmar\n",
            "Hamza\n",
            "ali\n",
            "abdul jabbar\n",
            "Mudassir\n"
          ]
        }
      ]
    },
    {
      "cell_type": "code",
      "source": [
        "for i in range(len(mytuple)):\n",
        "  print(mytuple[i])"
      ],
      "metadata": {
        "colab": {
          "base_uri": "https://localhost:8080/"
        },
        "id": "k_QNa8t0IQut",
        "outputId": "6de4e1a5-c8f7-4f43-e9f2-be8f854a2e9d"
      },
      "execution_count": 7,
      "outputs": [
        {
          "output_type": "stream",
          "name": "stdout",
          "text": [
            "zulqrnain\n",
            "Ahmar\n",
            "Hamza\n",
            "ali\n",
            "abdul jabbar\n",
            "Mudassir\n"
          ]
        }
      ]
    },
    {
      "cell_type": "code",
      "source": [
        "# Reversing a string\n",
        "mystr = \"Aritificial Intelligence\"\n",
        "\n",
        "for i in mystr:\n",
        "  print(i)\n",
        "\n",
        "# The for loop actually creates an iterator object and executes the next() method for each loop."
      ],
      "metadata": {
        "colab": {
          "base_uri": "https://localhost:8080/"
        },
        "id": "LQvIq2svIccS",
        "outputId": "1e4732a2-61c6-4e60-e111-3b4c54f4f6c3"
      },
      "execution_count": 8,
      "outputs": [
        {
          "output_type": "stream",
          "name": "stdout",
          "text": [
            "A\n",
            "r\n",
            "i\n",
            "t\n",
            "i\n",
            "f\n",
            "i\n",
            "c\n",
            "i\n",
            "a\n",
            "l\n",
            " \n",
            "I\n",
            "n\n",
            "t\n",
            "e\n",
            "l\n",
            "l\n",
            "i\n",
            "g\n",
            "e\n",
            "n\n",
            "c\n",
            "e\n"
          ]
        }
      ]
    },
    {
      "cell_type": "markdown",
      "source": [
        "# Create an Iterator\n",
        "To create an object/class as an iterator you have to implement the methods __iter__() and __next__() to your object.\n",
        "\n",
        "As you have learned in the Python Classes/Objects chapter, all classes have a function called __init__(), which allows you to do some initializing when the object is being created.\n",
        "\n",
        "The __iter__() method acts similar, you can do operations (initializing etc.), but must always return the iterator object itself.\n",
        "\n",
        "The __next__() method also allows you to do operations, and must return the next item in the sequence."
      ],
      "metadata": {
        "id": "keF94gh4JELj"
      }
    },
    {
      "cell_type": "code",
      "source": [
        "# Create an iterator that returns numbers, starting with 1,\n",
        "#  and each sequence will increase by one (returning 1,2,3,4,5 etc.):\n",
        "\n",
        "class mynumber :\n",
        "  def __iter__(self):\n",
        "    self.a = 1\n",
        "    return self\n",
        "\n",
        "  def __next__(self):\n",
        "    x = self.a\n",
        "    self.a += 1\n",
        "    return x\n",
        "\n",
        "myclass = mynumber()\n",
        "# Output\n",
        "myiter = iter(myclass)\n",
        "\n",
        "print(next(myiter))\n",
        "print(next(myiter))\n",
        "print(next(myiter))\n",
        "print(next(myiter))\n",
        "print(next(myiter))\n",
        "print(next(myiter))"
      ],
      "metadata": {
        "colab": {
          "base_uri": "https://localhost:8080/"
        },
        "id": "TuFGk2FPI5_g",
        "outputId": "d203cd80-683a-4aa7-b800-047f7545a979"
      },
      "execution_count": 10,
      "outputs": [
        {
          "output_type": "stream",
          "name": "stdout",
          "text": [
            "1\n",
            "2\n",
            "3\n",
            "4\n",
            "5\n",
            "6\n"
          ]
        }
      ]
    },
    {
      "cell_type": "markdown",
      "source": [
        "# StopIteration\n",
        "The example above would continue forever if you had enough next() statements, or if it was used in a for loop.\n",
        "\n",
        "To prevent the iteration from going on forever, we can use the StopIteration statement.\n",
        "\n",
        "In the __next__() method, we can add a terminating condition to raise an error if the iteration is done a specified number of times:"
      ],
      "metadata": {
        "id": "XyvM44-VKtHH"
      }
    },
    {
      "cell_type": "code",
      "source": [
        "# Stop after 20 iterations:\n",
        "class mynumber :\n",
        "  def __iter__(self):\n",
        "    self.a = 1\n",
        "    return self\n",
        "\n",
        "  def __next__(self):\n",
        "    if self.a <= 20:\n",
        "      x = self.a\n",
        "      self.a += 1\n",
        "      return x\n",
        "    else:\n",
        "      raise StopIteration\n",
        "\n",
        "myclass = mynumber()\n",
        "myiter = iter(myclass)\n",
        "\n",
        "for i in myiter:\n",
        "  print(i)\n",
        "\n",
        "\n"
      ],
      "metadata": {
        "colab": {
          "base_uri": "https://localhost:8080/"
        },
        "id": "7J-tBx4hKqJn",
        "outputId": "a139bd73-8408-4e3b-830b-cb5e307532bc"
      },
      "execution_count": 11,
      "outputs": [
        {
          "output_type": "stream",
          "name": "stdout",
          "text": [
            "1\n",
            "2\n",
            "3\n",
            "4\n",
            "5\n",
            "6\n",
            "7\n",
            "8\n",
            "9\n",
            "10\n",
            "11\n",
            "12\n",
            "13\n",
            "14\n",
            "15\n",
            "16\n",
            "17\n",
            "18\n",
            "19\n",
            "20\n"
          ]
        }
      ]
    },
    {
      "cell_type": "code",
      "source": [],
      "metadata": {
        "id": "H2JqZNrULoqv"
      },
      "execution_count": null,
      "outputs": []
    }
  ]
}