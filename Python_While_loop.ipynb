{
  "nbformat": 4,
  "nbformat_minor": 0,
  "metadata": {
    "colab": {
      "provenance": []
    },
    "kernelspec": {
      "name": "python3",
      "display_name": "Python 3"
    },
    "language_info": {
      "name": "python"
    }
  },
  "cells": [
    {
      "cell_type": "markdown",
      "source": [
        "### Python while loop"
      ],
      "metadata": {
        "id": "zUCyPieUcU08"
      }
    },
    {
      "cell_type": "markdown",
      "source": [
        "Python has two primitive loop commands:\n",
        "\n",
        "***while loops***\n",
        "***for loops ***\n",
        "\n",
        "With the while loop we can execute a set of statements as long as a condition is true."
      ],
      "metadata": {
        "id": "t81GAOoYcqmc"
      }
    },
    {
      "cell_type": "markdown",
      "source": [
        "### Sytnax"
      ],
      "metadata": {
        "id": "5V_NZql8dB4K"
      }
    },
    {
      "cell_type": "code",
      "execution_count": 2,
      "metadata": {
        "id": "UkdPyQmhcIxh"
      },
      "outputs": [],
      "source": [
        "# while test expression :\n",
        "\n",
        "#   body of while"
      ]
    },
    {
      "cell_type": "code",
      "source": [
        "num = 1\n",
        "while num <= 10 :\n",
        "  print(num)\n",
        "  num = num + 1"
      ],
      "metadata": {
        "colab": {
          "base_uri": "https://localhost:8080/"
        },
        "id": "UiwF9BADdPBY",
        "outputId": "a420637b-4af9-4084-c3a6-bad25e80f66c"
      },
      "execution_count": 3,
      "outputs": [
        {
          "output_type": "stream",
          "name": "stdout",
          "text": [
            "1\n",
            "2\n",
            "3\n",
            "4\n",
            "5\n",
            "6\n",
            "7\n",
            "8\n",
            "9\n",
            "10\n"
          ]
        }
      ]
    },
    {
      "cell_type": "code",
      "source": [
        "num = 10\n",
        "while num >= 1 :\n",
        "  print(num)\n",
        "  num = num -1 # while test expression :"
      ],
      "metadata": {
        "colab": {
          "base_uri": "https://localhost:8080/"
        },
        "id": "s4Naw3YDfV_T",
        "outputId": "15713e3b-2c8f-4f92-c757-0becea83dfdd"
      },
      "execution_count": 4,
      "outputs": [
        {
          "output_type": "stream",
          "name": "stdout",
          "text": [
            "10\n",
            "9\n",
            "8\n",
            "7\n",
            "6\n",
            "5\n",
            "4\n",
            "3\n",
            "2\n",
            "1\n"
          ]
        }
      ]
    },
    {
      "cell_type": "markdown",
      "source": [
        "### chak for even number"
      ],
      "metadata": {
        "id": "BYjUml-igg9-"
      }
    },
    {
      "cell_type": "code",
      "source": [
        "num = 2\n",
        "\n",
        "while num <= 20 :\n",
        "  print(num)\n",
        "  num = num + 2"
      ],
      "metadata": {
        "colab": {
          "base_uri": "https://localhost:8080/"
        },
        "id": "noJPJfWMggIH",
        "outputId": "f9a8eb1f-3ed4-49d4-9114-975ec1d29c94"
      },
      "execution_count": 6,
      "outputs": [
        {
          "output_type": "stream",
          "name": "stdout",
          "text": [
            "2\n",
            "4\n",
            "6\n",
            "8\n",
            "10\n",
            "12\n",
            "14\n",
            "16\n",
            "18\n",
            "20\n"
          ]
        }
      ]
    },
    {
      "cell_type": "markdown",
      "source": [
        "### chak odd number for while loop"
      ],
      "metadata": {
        "id": "PKYzQ0GzhGrA"
      }
    },
    {
      "cell_type": "code",
      "source": [
        "num = 1\n",
        "\n",
        "while num <= 9 :\n",
        "  print(num)\n",
        "  num = num + 2"
      ],
      "metadata": {
        "colab": {
          "base_uri": "https://localhost:8080/"
        },
        "id": "lG0JDmR4hNFV",
        "outputId": "0d342a0b-a405-443e-e269-d7cacbad2e8d"
      },
      "execution_count": 7,
      "outputs": [
        {
          "output_type": "stream",
          "name": "stdout",
          "text": [
            "1\n",
            "3\n",
            "5\n",
            "7\n",
            "9\n"
          ]
        }
      ]
    },
    {
      "cell_type": "markdown",
      "source": [
        "***user input n, n + 1, n + 2,..............end.***"
      ],
      "metadata": {
        "id": "_tZBcDwRhtpZ"
      }
    },
    {
      "cell_type": "code",
      "source": [
        "num_start =int(input(\"Enter the start value\"))\n",
        "num_end = int(input(\"Enter the end value\"))\n",
        "\n",
        "while num_start <= num_end :\n",
        "  print(num_start)\n",
        "  num_start = num_start + 1 # while test expression :\n"
      ],
      "metadata": {
        "colab": {
          "base_uri": "https://localhost:8080/"
        },
        "id": "Vj7PiHhUhal3",
        "outputId": "98e64a39-f91f-4bb0-aa52-82e54e6ec45c"
      },
      "execution_count": 9,
      "outputs": [
        {
          "output_type": "stream",
          "name": "stdout",
          "text": [
            "Enter the start value5\n",
            "Enter the end value10\n",
            "5\n",
            "6\n",
            "7\n",
            "8\n",
            "9\n",
            "10\n"
          ]
        }
      ]
    },
    {
      "cell_type": "code",
      "source": [
        "num_start =int(input(\"Enter the start value\"))\n",
        "num_end = int(input(\"Enter the end value\"))\n",
        "\n",
        "while num_start <= num_end :\n",
        "  if num_start % 2 == 0:\n",
        "    print(num_start)\n",
        "  num_start = num_start + 1 # while test expression :\n",
        "\n",
        "\n"
      ],
      "metadata": {
        "colab": {
          "base_uri": "https://localhost:8080/"
        },
        "id": "d2w_gwhzjT_n",
        "outputId": "0fa6970c-c474-4b65-d2c6-bcf1d7a4fc2d"
      },
      "execution_count": 10,
      "outputs": [
        {
          "output_type": "stream",
          "name": "stdout",
          "text": [
            "Enter the start value5\n",
            "Enter the end value20\n",
            "6\n",
            "8\n",
            "10\n",
            "12\n",
            "14\n",
            "16\n",
            "18\n",
            "20\n"
          ]
        }
      ]
    },
    {
      "cell_type": "markdown",
      "source": [
        "fectriol\n",
        "5 = 1 * 2 * 3 * 4 * 5 = 120"
      ],
      "metadata": {
        "id": "a6zy4sv5kXzu"
      }
    },
    {
      "cell_type": "code",
      "source": [
        "num = 5\n",
        "a = 1\n",
        "b = 1\n",
        "\n",
        "while a <= num :\n",
        "  b = b * a\n",
        "  a = a + 1\n",
        "\n",
        "print(b)\n"
      ],
      "metadata": {
        "colab": {
          "base_uri": "https://localhost:8080/"
        },
        "id": "8s23HkenkRgS",
        "outputId": "fd2b149a-aef3-4cd5-f63b-c16c2214b6e3"
      },
      "execution_count": 11,
      "outputs": [
        {
          "output_type": "stream",
          "name": "stdout",
          "text": [
            "120\n"
          ]
        }
      ]
    }
  ]
}