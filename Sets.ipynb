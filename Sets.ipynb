{
  "nbformat": 4,
  "nbformat_minor": 0,
  "metadata": {
    "colab": {
      "provenance": []
    },
    "kernelspec": {
      "name": "python3",
      "display_name": "Python 3"
    },
    "language_info": {
      "name": "python"
    }
  },
  "cells": [
    {
      "cell_type": "markdown",
      "source": [
        "# SET"
      ],
      "metadata": {
        "id": "5wBWsXPKSQri"
      }
    },
    {
      "cell_type": "markdown",
      "source": [
        "Set\n",
        "Sets are used to store multiple items in a single variable.\n",
        "\n",
        "Set is one of 4 built-in data types in Python used to store collections of data, the other 3 are List, Tuple, and Dictionary, all with different qualities and usage.\n",
        "\n",
        "A set is a collection which is unordered, unchangeable*, and unindexed.\n",
        "\n",
        "* Note: Set items are unchangeable, but you can remove items and add new items.\n",
        "\n",
        "Sets are written with curly brackets."
      ],
      "metadata": {
        "id": "J-MLGrfBSV-t"
      }
    },
    {
      "cell_type": "code",
      "execution_count": 1,
      "metadata": {
        "colab": {
          "base_uri": "https://localhost:8080/"
        },
        "id": "QWquUqN5SAgY",
        "outputId": "b18b2dcb-d097-4f1e-c4bc-491de9791e27"
      },
      "outputs": [
        {
          "output_type": "stream",
          "name": "stdout",
          "text": [
            "{1, 2, 3, 4, 5}\n",
            "<class 'set'>\n"
          ]
        }
      ],
      "source": [
        "# Create a set using curly braces\n",
        "\n",
        "s = {1, 2, 3, 4, 5}\n",
        "print(s)\n",
        "\n",
        "# print type of s\n",
        "print(type(s))"
      ]
    },
    {
      "cell_type": "code",
      "source": [
        "# set dosn't allow duplictes. they story only one instance\n",
        "\n",
        "s = {1, 2, 3, 4, 5, 3, 1, 2}\n",
        "print(s)"
      ],
      "metadata": {
        "colab": {
          "base_uri": "https://localhost:8080/"
        },
        "id": "kJBVf6O8TxDV",
        "outputId": "983e8f57-c6d2-4c57-fc04-477c6df91ab2"
      },
      "execution_count": 2,
      "outputs": [
        {
          "output_type": "stream",
          "name": "stdout",
          "text": [
            "{1, 2, 3, 4, 5}\n"
          ]
        }
      ]
    },
    {
      "cell_type": "code",
      "source": [
        "# we can make set from of list\n",
        "s = set([1, 2, 3, 4, 5, 2])\n",
        "print(s)"
      ],
      "metadata": {
        "colab": {
          "base_uri": "https://localhost:8080/"
        },
        "id": "X0qPJXurW9sE",
        "outputId": "96fa1b5b-0245-4150-fb84-e77c75f9e36b"
      },
      "execution_count": 4,
      "outputs": [
        {
          "output_type": "stream",
          "name": "stdout",
          "text": [
            "{1, 2, 3, 4, 5}\n"
          ]
        }
      ]
    },
    {
      "cell_type": "code",
      "source": [
        "# initialize a set with set() method\n",
        "s = set()\n",
        "print(type(s))"
      ],
      "metadata": {
        "colab": {
          "base_uri": "https://localhost:8080/"
        },
        "id": "LUYRTMrdXTUg",
        "outputId": "073790a5-661a-4ede-c053-30b6f657aad6"
      },
      "execution_count": 6,
      "outputs": [
        {
          "output_type": "stream",
          "name": "stdout",
          "text": [
            "<class 'set'>\n"
          ]
        }
      ]
    },
    {
      "cell_type": "markdown",
      "source": [
        "# Add Element to a Set"
      ],
      "metadata": {
        "id": "kgL7hUGOXyMZ"
      }
    },
    {
      "cell_type": "code",
      "source": [
        "# add an element to the set\n",
        "s.add(5)\n",
        "print(s)"
      ],
      "metadata": {
        "colab": {
          "base_uri": "https://localhost:8080/"
        },
        "id": "IPIopdJgX72k",
        "outputId": "f3d8396b-2e27-49e5-e9b8-647fb25bfdbe"
      },
      "execution_count": 9,
      "outputs": [
        {
          "output_type": "stream",
          "name": "stdout",
          "text": [
            "{2, 5, 6}\n"
          ]
        }
      ]
    },
    {
      "cell_type": "code",
      "source": [
        "# update the set with multiple elements\n",
        "s.update([6, 7, 8])\n",
        "print(s)"
      ],
      "metadata": {
        "colab": {
          "base_uri": "https://localhost:8080/"
        },
        "id": "bb0z969EYSFz",
        "outputId": "e651746e-cf64-4884-a7f1-4f77ca397792"
      },
      "execution_count": 10,
      "outputs": [
        {
          "output_type": "stream",
          "name": "stdout",
          "text": [
            "{2, 5, 6, 7, 8}\n"
          ]
        }
      ]
    },
    {
      "cell_type": "code",
      "source": [
        "s.add(3)\n",
        "s.add(1)\n",
        "s.add(9)\n",
        "print(s)"
      ],
      "metadata": {
        "colab": {
          "base_uri": "https://localhost:8080/"
        },
        "id": "MQjUEpTTYmva",
        "outputId": "edb3f6d3-4d39-4a13-a254-15915f0877d8"
      },
      "execution_count": 12,
      "outputs": [
        {
          "output_type": "stream",
          "name": "stdout",
          "text": [
            "{1, 2, 3, 5, 6, 7, 8, 9}\n"
          ]
        }
      ]
    },
    {
      "cell_type": "code",
      "source": [
        "# add list and set\n",
        "s.update([6, 7],{4, 5, 10})\n",
        "print(s)"
      ],
      "metadata": {
        "colab": {
          "base_uri": "https://localhost:8080/"
        },
        "id": "SpweVwNgZsnV",
        "outputId": "baa3bd80-1d5e-4af3-a3be-ac071ae3f3c7"
      },
      "execution_count": 14,
      "outputs": [
        {
          "output_type": "stream",
          "name": "stdout",
          "text": [
            "{1, 2, 3, 4, 5, 6, 7, 8, 9, 10}\n"
          ]
        }
      ]
    },
    {
      "cell_type": "markdown",
      "source": [
        "# Remove Element from a set"
      ],
      "metadata": {
        "id": "AxW-krH6aVDC"
      }
    },
    {
      "cell_type": "code",
      "source": [
        "# A particular item  can  be removed from set using method!\n",
        "# discard () and remove()\n",
        "\n",
        "s = {1, 2, 3, 4, 5}\n",
        "print(s)\n",
        "\n",
        "s.discard(4)   #4 removed from set s\n",
        "\n",
        "print(s)\n"
      ],
      "metadata": {
        "colab": {
          "base_uri": "https://localhost:8080/"
        },
        "id": "ZqGkg-3yabMP",
        "outputId": "2d08d7aa-b5b9-466b-c9b2-9c6654e11e7a"
      },
      "execution_count": 15,
      "outputs": [
        {
          "output_type": "stream",
          "name": "stdout",
          "text": [
            "{1, 2, 3, 4, 5}\n",
            "{1, 2, 3, 5}\n"
          ]
        }
      ]
    },
    {
      "cell_type": "code",
      "source": [
        "# remove an element\n",
        "s.remove(2)\n",
        "\n",
        "print(s)"
      ],
      "metadata": {
        "colab": {
          "base_uri": "https://localhost:8080/"
        },
        "id": "tqVM5meSbnTS",
        "outputId": "cd11ffc1-2fb2-4bc0-b912-328e8c5b1ff6"
      },
      "execution_count": 16,
      "outputs": [
        {
          "output_type": "stream",
          "name": "stdout",
          "text": [
            "{1, 3, 5}\n"
          ]
        }
      ]
    },
    {
      "cell_type": "code",
      "source": [
        "# discard an element not preasent in the set s\n",
        "s.discard(6)\n",
        "print(s)"
      ],
      "metadata": {
        "colab": {
          "base_uri": "https://localhost:8080/"
        },
        "id": "TJ_eEywYcZbV",
        "outputId": "bcae0253-4379-49e7-adef-b817cd7b0eed"
      },
      "execution_count": 17,
      "outputs": [
        {
          "output_type": "stream",
          "name": "stdout",
          "text": [
            "{1, 3, 5}\n"
          ]
        }
      ]
    },
    {
      "cell_type": "code",
      "source": [
        "# we can use pop() method to remove an arbitrary element from the set\n",
        "\n",
        "s = {1, 2, 3, 4, 5}\n",
        "s.pop()\n",
        "print(s)"
      ],
      "metadata": {
        "colab": {
          "base_uri": "https://localhost:8080/"
        },
        "id": "NTBX9Q3LczAU",
        "outputId": "ff40d0d0-29be-491b-cbd4-4b300fa54c86"
      },
      "execution_count": 18,
      "outputs": [
        {
          "output_type": "stream",
          "name": "stdout",
          "text": [
            "{2, 3, 4, 5}\n"
          ]
        }
      ]
    },
    {
      "cell_type": "code",
      "source": [
        "# all the remove element using clear () method\n",
        "\n",
        "s.clear()\n",
        "print(s)"
      ],
      "metadata": {
        "colab": {
          "base_uri": "https://localhost:8080/"
        },
        "id": "GMxZTJGjdDMk",
        "outputId": "67c31402-045a-4e6d-ac86-9c71cd04a9a4"
      },
      "execution_count": 19,
      "outputs": [
        {
          "output_type": "stream",
          "name": "stdout",
          "text": [
            "set()\n"
          ]
        }
      ]
    },
    {
      "cell_type": "markdown",
      "source": [
        "# Python set Operations"
      ],
      "metadata": {
        "id": "qaqz9Y_6d26H"
      }
    },
    {
      "cell_type": "code",
      "source": [
        "set1 = {1, 2, 3, 4, 5}\n",
        "set2 = {4, 5, 6, 7, 8, 9, 10}\n",
        "\n",
        "# Union of two sets |operator\n",
        "\n",
        "print( set1 | set2)"
      ],
      "metadata": {
        "colab": {
          "base_uri": "https://localhost:8080/"
        },
        "id": "lsnZs9b_eShG",
        "outputId": "498645ea-11d1-4045-8dd3-6b4859bfd60c"
      },
      "execution_count": 20,
      "outputs": [
        {
          "output_type": "stream",
          "name": "stdout",
          "text": [
            "{1, 2, 3, 4, 5, 6, 7, 8, 9, 10}\n"
          ]
        }
      ]
    },
    {
      "cell_type": "code",
      "source": [
        "# another way of getting union of two set\n",
        "print(set1.union(set2))"
      ],
      "metadata": {
        "colab": {
          "base_uri": "https://localhost:8080/"
        },
        "id": "5OsMn1ALe8RH",
        "outputId": "a666d556-a221-48f3-ef60-8fd7e61e2167"
      },
      "execution_count": 21,
      "outputs": [
        {
          "output_type": "stream",
          "name": "stdout",
          "text": [
            "{1, 2, 3, 4, 5, 6, 7, 8, 9, 10}\n"
          ]
        }
      ]
    },
    {
      "cell_type": "code",
      "source": [
        "# intersection of two sets & operator\n",
        "print(set1 & set2)"
      ],
      "metadata": {
        "colab": {
          "base_uri": "https://localhost:8080/"
        },
        "id": "FZ3BvZFHfMZ-",
        "outputId": "c1c8a53b-a10b-4570-c6c5-cda85d8e148e"
      },
      "execution_count": 25,
      "outputs": [
        {
          "output_type": "stream",
          "name": "stdout",
          "text": [
            "{4, 5}\n"
          ]
        }
      ]
    },
    {
      "cell_type": "code",
      "source": [
        "# use intersection function\n",
        "print(set1.intersection(set2))"
      ],
      "metadata": {
        "colab": {
          "base_uri": "https://localhost:8080/"
        },
        "id": "phcHOo51fjnj",
        "outputId": "40b8e34c-34f7-40e1-9482-de9acaa2a88a"
      },
      "execution_count": 26,
      "outputs": [
        {
          "output_type": "stream",
          "name": "stdout",
          "text": [
            "{4, 5}\n"
          ]
        }
      ]
    },
    {
      "cell_type": "code",
      "source": [
        "# set of difference : set of element that are only in set1 but not in set2\n",
        "print(set1 - set2)"
      ],
      "metadata": {
        "colab": {
          "base_uri": "https://localhost:8080/"
        },
        "id": "rPy8heUTf3zP",
        "outputId": "c8a6ca37-9ac4-46cf-c0e8-61459717a0d0"
      },
      "execution_count": 27,
      "outputs": [
        {
          "output_type": "stream",
          "name": "stdout",
          "text": [
            "{1, 2, 3}\n"
          ]
        }
      ]
    },
    {
      "cell_type": "code",
      "source": [
        "# use difference method\n",
        "print(set1.difference(set2))"
      ],
      "metadata": {
        "colab": {
          "base_uri": "https://localhost:8080/"
        },
        "id": "Zg-YsQnMgLui",
        "outputId": "decec266-14a4-43c3-ebc3-aadea4eab445"
      },
      "execution_count": 28,
      "outputs": [
        {
          "output_type": "stream",
          "name": "stdout",
          "text": [
            "{1, 2, 3}\n"
          ]
        }
      ]
    },
    {
      "cell_type": "code",
      "source": [
        "# symmetric difference : set of element in both set1 and set2  # expect those that are commen in both sets\n",
        "\n",
        "# use ^ operator\n",
        "print(set1 ^ set2)"
      ],
      "metadata": {
        "colab": {
          "base_uri": "https://localhost:8080/"
        },
        "id": "fqGqF9_QgS0M",
        "outputId": "865610bf-0c39-48b5-8f4c-750909af2ca2"
      },
      "execution_count": 29,
      "outputs": [
        {
          "output_type": "stream",
          "name": "stdout",
          "text": [
            "{1, 2, 3, 6, 7, 8, 9, 10}\n"
          ]
        }
      ]
    },
    {
      "cell_type": "code",
      "source": [
        "# using symmatric difference method\n",
        "\n",
        "print(set1.symmetric_difference(set2))"
      ],
      "metadata": {
        "colab": {
          "base_uri": "https://localhost:8080/"
        },
        "id": "KK-Cm-NGhYhv",
        "outputId": "cc9dedd3-5550-42de-9121-0b101f2580c2"
      },
      "execution_count": 30,
      "outputs": [
        {
          "output_type": "stream",
          "name": "stdout",
          "text": [
            "{1, 2, 3, 6, 7, 8, 9, 10}\n"
          ]
        }
      ]
    },
    {
      "cell_type": "code",
      "source": [
        "# find is subset()\n",
        "\n",
        "x = {\"a\", \"b\", \"b\", \"d\", \"c\"}\n",
        "y = {\"a\", \"b\", \"c\"}\n",
        "\n",
        "# check if y is a subset of x\n",
        "print (\"set 'X' is  subset of 'y' ?\", x.issubset(y))\n",
        "\n",
        "# check if x is a subset of y\n",
        "\n",
        "print(\"set 'Y' is subset of 'X' ?\", y.issubset(x))"
      ],
      "metadata": {
        "colab": {
          "base_uri": "https://localhost:8080/"
        },
        "id": "NOdIkRT1hgtH",
        "outputId": "e6baff72-953a-43dc-af7a-370e4e6c2523"
      },
      "execution_count": 31,
      "outputs": [
        {
          "output_type": "stream",
          "name": "stdout",
          "text": [
            "set 'X' is  subset of 'y' ? False\n",
            "set 'Y' is subset of 'X' ? True\n"
          ]
        }
      ]
    },
    {
      "cell_type": "markdown",
      "source": [
        "## Frozen Subset"
      ],
      "metadata": {
        "id": "C-VQ84K6jpSW"
      }
    },
    {
      "cell_type": "markdown",
      "source": [
        "The frozenset() function returns an unchangeable frozenset object (which is like a set object, only unchangeable)."
      ],
      "metadata": {
        "id": "QlYUTN9Rj8hx"
      }
    },
    {
      "cell_type": "code",
      "source": [
        "mylist = ['apple', 'banana', 'cherry']\n",
        "x = frozenset(mylist)\n",
        "print(x)"
      ],
      "metadata": {
        "colab": {
          "base_uri": "https://localhost:8080/"
        },
        "id": "QsCGcP_jjtHC",
        "outputId": "e8b0aa2b-20f7-4467-e93a-895f7e1a8359"
      },
      "execution_count": 32,
      "outputs": [
        {
          "output_type": "stream",
          "name": "stdout",
          "text": [
            "frozenset({'cherry', 'banana', 'apple'})\n"
          ]
        }
      ]
    }
  ]
}