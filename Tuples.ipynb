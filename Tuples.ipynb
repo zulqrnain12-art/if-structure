{
  "nbformat": 4,
  "nbformat_minor": 0,
  "metadata": {
    "colab": {
      "provenance": []
    },
    "kernelspec": {
      "name": "python3",
      "display_name": "Python 3"
    },
    "language_info": {
      "name": "python"
    }
  },
  "cells": [
    {
      "cell_type": "markdown",
      "source": [
        "# Tuples"
      ],
      "metadata": {
        "id": "I5MQ2m_a1VDO"
      }
    },
    {
      "cell_type": "markdown",
      "source": [
        "Tuples are used to store multiple items in a single variable.\n",
        "\n",
        "Tuple is one of 4 built-in data types in Python used to store collections of data, the other 3 are List, Set, and Dictionary, all with different qualities and usage.\n",
        "\n",
        "A tuple is a collection which is ordered and unchangeable.\n",
        "\n",
        "Tuples are written with round brackets."
      ],
      "metadata": {
        "id": "ea2wG3Vg1h3Q"
      }
    },
    {
      "cell_type": "code",
      "execution_count": 1,
      "metadata": {
        "colab": {
          "base_uri": "https://localhost:8080/"
        },
        "id": "OkXSH_Ap0kPh",
        "outputId": "0dc7f235-6948-42a3-b408-2b9992b0cf06"
      },
      "outputs": [
        {
          "output_type": "stream",
          "name": "stdout",
          "text": [
            "(1, 2, 3, 4, 5, 6, 7, 8)\n",
            "(1, 'data', 24.7, 'intelligence', 30, 'islamia university of BWP')\n",
            "((1, 2, 3), ['a', 'b', 'c'], (True, False))\n"
          ]
        }
      ],
      "source": [
        "# empty tuple\n",
        "t = ()\n",
        "\n",
        "# tuple having integers\n",
        "t = (1, 2, 3, 4, 5, 6, 7, 8)\n",
        "print(t)\n",
        "\n",
        "# tuple mixed datatype\n",
        "t = (1, 'data', 24.7, 'intelligence', 30, 'islamia university of BWP')\n",
        "print(t)\n",
        "\n",
        "# tuple with nested tuples\n",
        "t = ((1, 2, 3), ['a', 'b', 'c'], (True, False))\n",
        "print(t)"
      ]
    },
    {
      "cell_type": "code",
      "source": [
        "# checking type of tuple\n",
        "t = ('data')\n",
        "print(type(t))"
      ],
      "metadata": {
        "colab": {
          "base_uri": "https://localhost:8080/"
        },
        "id": "JYOgkMpH3gEW",
        "outputId": "06a9d3d9-80ad-43b1-c99c-68c7b48ad712"
      },
      "execution_count": 2,
      "outputs": [
        {
          "output_type": "stream",
          "name": "stdout",
          "text": [
            "<class 'str'>\n"
          ]
        }
      ]
    },
    {
      "cell_type": "markdown",
      "source": [
        "# Accessing Elements in Tuple"
      ],
      "metadata": {
        "id": "bMli6VKZ4E0W"
      }
    },
    {
      "cell_type": "code",
      "source": [
        "t = ('data', 'university', 'intelligence', 'Ahmar')\n",
        "\n",
        "print(t[2])"
      ],
      "metadata": {
        "colab": {
          "base_uri": "https://localhost:8080/"
        },
        "id": "VIsGpszb4PqB",
        "outputId": "15498c84-a2eb-41b0-c2f4-a84947e6fe30"
      },
      "execution_count": 3,
      "outputs": [
        {
          "output_type": "stream",
          "name": "stdout",
          "text": [
            "intelligence\n"
          ]
        }
      ]
    },
    {
      "cell_type": "code",
      "source": [
        "# Negative indexing in tuple\n",
        "t = ('data', 'university', 'intelligence', 'Ahmar')\n",
        "\n",
        "print(t[-1])"
      ],
      "metadata": {
        "colab": {
          "base_uri": "https://localhost:8080/"
        },
        "id": "aZAe_tyD4tV3",
        "outputId": "9838dbf2-3635-414a-bc15-3ea8992985c7"
      },
      "execution_count": 4,
      "outputs": [
        {
          "output_type": "stream",
          "name": "stdout",
          "text": [
            "Ahmar\n"
          ]
        }
      ]
    },
    {
      "cell_type": "code",
      "source": [
        "# nested tuple\n",
        "t = (('data', 'university'), ('intelligence', 'Ahmar'))\n",
        "\n",
        "print(t[1])"
      ],
      "metadata": {
        "colab": {
          "base_uri": "https://localhost:8080/"
        },
        "id": "edkbtezs5CYw",
        "outputId": "ab8703f8-405f-4376-fbdb-11b324386cd5"
      },
      "execution_count": 6,
      "outputs": [
        {
          "output_type": "stream",
          "name": "stdout",
          "text": [
            "('intelligence', 'Ahmar')\n"
          ]
        }
      ]
    },
    {
      "cell_type": "code",
      "source": [
        "# slicing\n",
        "t = ('data', 'university', 'intelligence', 'Ahmar')\n",
        "print(t[1:3])\n",
        "\n"
      ],
      "metadata": {
        "colab": {
          "base_uri": "https://localhost:8080/"
        },
        "id": "vLy9KNJt5QC4",
        "outputId": "e25613d6-4f30-4014-933b-65969ff400f3"
      },
      "execution_count": 7,
      "outputs": [
        {
          "output_type": "stream",
          "name": "stdout",
          "text": [
            "('university', 'intelligence')\n"
          ]
        }
      ]
    },
    {
      "cell_type": "markdown",
      "source": [
        "# tuple not change\n",
        "\n",
        "TypeError: 'tuple' object does not support item assignment"
      ],
      "metadata": {
        "id": "X1R5Fsti6Nk6"
      }
    },
    {
      "cell_type": "code",
      "source": [
        "# creating tuple\n",
        "\n",
        "t = (1, 2, 3, 4, [5, 6, 7, 8, 9, 10])\n",
        "\n",
        "# t[4] = 'x' # t[0] = 'allah' # will get type error\n",
        "\n",
        "t[4][1] = 9\n",
        "\n",
        "t"
      ],
      "metadata": {
        "colab": {
          "base_uri": "https://localhost:8080/"
        },
        "id": "7-lMhoe65lOG",
        "outputId": "58adf2a8-d5b7-4a57-d226-52d4bf269c50"
      },
      "execution_count": 23,
      "outputs": [
        {
          "output_type": "execute_result",
          "data": {
            "text/plain": [
              "(1, 2, 3, 4, [5, 9, 7, 8, 9, 10])"
            ]
          },
          "metadata": {},
          "execution_count": 23
        }
      ]
    },
    {
      "cell_type": "code",
      "source": [
        "# concatinating tuple\n",
        "t = (1, 2, 3) + (4, 5, 6)\n",
        "print(t)"
      ],
      "metadata": {
        "colab": {
          "base_uri": "https://localhost:8080/"
        },
        "id": "_cLtD8St8SMo",
        "outputId": "e7ac3029-92e0-4b44-ab91-0b7fc30e0fe7"
      },
      "execution_count": 24,
      "outputs": [
        {
          "output_type": "stream",
          "name": "stdout",
          "text": [
            "(1, 2, 3, 4, 5, 6)\n"
          ]
        }
      ]
    },
    {
      "cell_type": "markdown",
      "source": [
        "# Tuple count"
      ],
      "metadata": {
        "id": "wnjpWHS281dh"
      }
    },
    {
      "cell_type": "code",
      "source": [
        "t = (1, 2, 3, 1, 4 , 5, 3, 2, 3, 1)\n",
        "\n",
        "# counting occurrences of an element in a tuple\n",
        "print(t.count(3))"
      ],
      "metadata": {
        "colab": {
          "base_uri": "https://localhost:8080/"
        },
        "id": "y79STm2e85FZ",
        "outputId": "25a555c7-a0bb-414e-b0b5-74ad324282a0"
      },
      "execution_count": 27,
      "outputs": [
        {
          "output_type": "stream",
          "name": "stdout",
          "text": [
            "3\n"
          ]
        }
      ]
    },
    {
      "cell_type": "code",
      "source": [
        "# tuple Mumbership\n",
        "\n",
        "t = (1, 2, 3, 4, 5)\n",
        "# tuple membership\n",
        "print(3 in t)\n"
      ],
      "metadata": {
        "colab": {
          "base_uri": "https://localhost:8080/"
        },
        "id": "o1ebYe2b9csN",
        "outputId": "a14e7c87-5e35-4aff-cf8d-d7978839ea3d"
      },
      "execution_count": 28,
      "outputs": [
        {
          "output_type": "stream",
          "name": "stdout",
          "text": [
            "True\n"
          ]
        }
      ]
    },
    {
      "cell_type": "markdown",
      "source": [
        "# Built in Function"
      ],
      "metadata": {
        "id": "sKlGqhwa9z9t"
      }
    },
    {
      "cell_type": "markdown",
      "source": [
        "# Tuple Length"
      ],
      "metadata": {
        "id": "Pv0n9L8X9-Yu"
      }
    },
    {
      "cell_type": "code",
      "source": [
        "t = (1, 2, 3, 4, 5)\n",
        "# tuple length\n",
        "print(len(t))"
      ],
      "metadata": {
        "colab": {
          "base_uri": "https://localhost:8080/"
        },
        "id": "KwuyXUlS97b8",
        "outputId": "a6118048-6eda-4f9a-8831-99760808282a"
      },
      "execution_count": 29,
      "outputs": [
        {
          "output_type": "stream",
          "name": "stdout",
          "text": [
            "5\n"
          ]
        }
      ]
    },
    {
      "cell_type": "markdown",
      "source": [
        "# Change Tuple into list"
      ],
      "metadata": {
        "id": "lwTU57TM-qS9"
      }
    },
    {
      "cell_type": "code",
      "source": [
        "a = []\n",
        "a = list(t)\n",
        "# converting tuple to list\n",
        "a[2] = 10\n",
        "\n",
        "print(t)\n",
        "print(a)\n",
        "\n",
        "t = tuple(a)\n",
        "\n",
        "t"
      ],
      "metadata": {
        "colab": {
          "base_uri": "https://localhost:8080/"
        },
        "id": "8rarjBOe-vYu",
        "outputId": "428c3c46-a64a-4e84-b0a6-df8b8af62e39"
      },
      "execution_count": 41,
      "outputs": [
        {
          "output_type": "stream",
          "name": "stdout",
          "text": [
            "(1, 2, 10, 4, 5)\n",
            "[1, 2, 10, 4, 5]\n"
          ]
        },
        {
          "output_type": "execute_result",
          "data": {
            "text/plain": [
              "(1, 2, 10, 4, 5)"
            ]
          },
          "metadata": {},
          "execution_count": 41
        }
      ]
    },
    {
      "cell_type": "code",
      "source": [
        "# loop\n",
        "for x in t:\n",
        "  print(x)"
      ],
      "metadata": {
        "colab": {
          "base_uri": "https://localhost:8080/"
        },
        "id": "2RLqMm5BAKww",
        "outputId": "360e0c66-6922-41c5-bbf6-063489f24d8e"
      },
      "execution_count": 43,
      "outputs": [
        {
          "output_type": "stream",
          "name": "stdout",
          "text": [
            "1\n",
            "2\n",
            "10\n",
            "4\n",
            "5\n"
          ]
        }
      ]
    },
    {
      "cell_type": "code",
      "source": [
        "for i in range (len(t)):\n",
        "  print(t[i])# tuple unpacking"
      ],
      "metadata": {
        "colab": {
          "base_uri": "https://localhost:8080/"
        },
        "id": "-7pyNAlFBivE",
        "outputId": "9decb3a8-95a6-4a63-d254-109fb3209a3b"
      },
      "execution_count": 44,
      "outputs": [
        {
          "output_type": "stream",
          "name": "stdout",
          "text": [
            "1\n",
            "2\n",
            "10\n",
            "4\n",
            "5\n"
          ]
        }
      ]
    }
  ]
}