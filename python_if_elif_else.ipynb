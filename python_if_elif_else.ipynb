{
  "nbformat": 4,
  "nbformat_minor": 0,
  "metadata": {
    "colab": {
      "provenance": []
    },
    "kernelspec": {
      "name": "python3",
      "display_name": "Python 3"
    },
    "language_info": {
      "name": "python"
    }
  },
  "cells": [
    {
      "cell_type": "markdown",
      "source": [
        "### ***Python If else statement***"
      ],
      "metadata": {
        "id": "wYo_cQLAj92h"
      }
    },
    {
      "cell_type": "markdown",
      "source": [
        "***if selse statement is used in python for decision making***"
      ],
      "metadata": {
        "id": "ZZ_sN-PYlgV7"
      }
    },
    {
      "cell_type": "markdown",
      "source": [
        "Python Conditions and If statements\n",
        "Python supports the usual logical conditions from mathematics:\n",
        "\n",
        "***Equals: a == b***\n",
        "***Not Equals: a != b***\n",
        "***Less than: a < b***\n",
        "***Less than or equal to: a <= b***\n",
        "***Greater than: a > b***\n",
        "***Greater than or equal to: a >= b***\n",
        "These conditions can be used in several ways, most commonly in \"if statements\" and loops.\n",
        "\n",
        "An \"if statement\" is written by using the if keyword."
      ],
      "metadata": {
        "id": "WWLlaXAlmjWU"
      }
    },
    {
      "cell_type": "code",
      "execution_count": 3,
      "metadata": {
        "colab": {
          "base_uri": "https://localhost:8080/"
        },
        "id": "iib1v0ZDjZt7",
        "outputId": "4cfd5e99-40b0-4f57-eee7-4664b04160b9"
      },
      "outputs": [
        {
          "output_type": "stream",
          "name": "stdout",
          "text": [
            "True\n",
            "False\n"
          ]
        }
      ],
      "source": [
        "# a == b\n",
        "print (12 == 12) #condaction is true\n",
        "print(3 == 6) #condaction is false\n"
      ]
    },
    {
      "cell_type": "code",
      "source": [
        "# Not equal\n",
        "print(30 != 20)\n",
        "print(10 != 5)\n",
        "print(2 != 1)\n",
        "print(13 != 1)"
      ],
      "metadata": {
        "colab": {
          "base_uri": "https://localhost:8080/"
        },
        "id": "lkm-29uwoFJc",
        "outputId": "c61fcf6d-b07f-44bd-fe81-f197f4da09b2"
      },
      "execution_count": 7,
      "outputs": [
        {
          "output_type": "stream",
          "name": "stdout",
          "text": [
            "True\n",
            "True\n",
            "True\n",
            "True\n"
          ]
        }
      ]
    },
    {
      "cell_type": "code",
      "source": [
        "# Less than\n",
        "print(4 < 9)\n",
        "print(9 < 4)"
      ],
      "metadata": {
        "colab": {
          "base_uri": "https://localhost:8080/"
        },
        "id": "tyMPY7l4ooRI",
        "outputId": "e7abccd5-0771-493f-f8d5-45f8298a8d91"
      },
      "execution_count": 9,
      "outputs": [
        {
          "output_type": "stream",
          "name": "stdout",
          "text": [
            "True\n",
            "False\n"
          ]
        }
      ]
    },
    {
      "cell_type": "code",
      "source": [
        "# Less than or equal to\n",
        "print(12 <= 5)\n",
        "print(5 <= 12)"
      ],
      "metadata": {
        "colab": {
          "base_uri": "https://localhost:8080/"
        },
        "id": "0lS19ekmpCIA",
        "outputId": "fe7f5791-e503-4729-d44b-df5b9cd3294a"
      },
      "execution_count": 11,
      "outputs": [
        {
          "output_type": "stream",
          "name": "stdout",
          "text": [
            "False\n",
            "True\n"
          ]
        }
      ]
    },
    {
      "cell_type": "code",
      "source": [
        "# Greater than\n",
        "print(12 > 10)\n",
        "print(10 > 20)"
      ],
      "metadata": {
        "colab": {
          "base_uri": "https://localhost:8080/"
        },
        "id": "RcvBtwrGpXE9",
        "outputId": "9fcf0742-17da-4f34-8099-eec915c63460"
      },
      "execution_count": 13,
      "outputs": [
        {
          "output_type": "stream",
          "name": "stdout",
          "text": [
            "True\n",
            "False\n"
          ]
        }
      ]
    },
    {
      "cell_type": "code",
      "source": [
        "# Greater than or equal to\n",
        "print(12 >= 30)\n",
        "print(13 >= 10)"
      ],
      "metadata": {
        "colab": {
          "base_uri": "https://localhost:8080/"
        },
        "id": "9nptyPfzpkZ8",
        "outputId": "52983d17-095d-4698-d3cc-33ee2d78b00e"
      },
      "execution_count": 15,
      "outputs": [
        {
          "output_type": "stream",
          "name": "stdout",
          "text": [
            "False\n",
            "True\n"
          ]
        }
      ]
    },
    {
      "cell_type": "markdown",
      "source": [
        "### ***Syntax***"
      ],
      "metadata": {
        "id": "_jq8pG0FrGiV"
      }
    },
    {
      "cell_type": "code",
      "source": [
        "# if test expression:\n",
        "\n",
        "  # statement(s)"
      ],
      "metadata": {
        "id": "PzeizL6frMIw"
      },
      "execution_count": null,
      "outputs": []
    },
    {
      "cell_type": "markdown",
      "source": [
        "## let's see"
      ],
      "metadata": {
        "id": "PRhj3lq_sIpd"
      }
    },
    {
      "cell_type": "code",
      "source": [
        "# n = 60\n",
        "# if n > 50 :\n",
        "#   print(\"pass\")\n",
        "\n",
        "# n = 45\n",
        "# if n > 50 :\n",
        "#   print(\"pass\")\n",
        "\n",
        "n = int(input(\"Enter the marks\"))\n",
        "if n > 80 :\n",
        "  print(\"pass\")\n",
        "  print(\"congrats.....\") #student pass and than conduction is true\n",
        "\n",
        "if n < 80 :\n",
        "  print(\"Fail...\")\n"
      ],
      "metadata": {
        "colab": {
          "base_uri": "https://localhost:8080/"
        },
        "id": "pQD4MAEisIYX",
        "outputId": "1b9a9b8f-2956-4112-ce11-ead7e59a5bc3"
      },
      "execution_count": 24,
      "outputs": [
        {
          "output_type": "stream",
          "name": "stdout",
          "text": [
            "Enter the marks70\n",
            "Fail...\n"
          ]
        }
      ]
    },
    {
      "cell_type": "code",
      "source": [
        "a = int(input(\"Enter the marks\"))\n",
        "\n",
        "if a > 0 :\n",
        "  print(\"Number is +tive\")\n",
        "\n",
        "if a < 0 :\n",
        "  print(\"Number is -tive\")\n",
        "\n",
        "if a == 0 :\n",
        "  print(\"Number is equal\")"
      ],
      "metadata": {
        "colab": {
          "base_uri": "https://localhost:8080/"
        },
        "id": "6blcC_V3wKga",
        "outputId": "9380720d-bfe4-4fb7-8a3e-89327139d8d7"
      },
      "execution_count": 25,
      "outputs": [
        {
          "output_type": "stream",
          "name": "stdout",
          "text": [
            "Enter the marks10\n",
            "Number is +tive\n"
          ]
        }
      ]
    },
    {
      "cell_type": "code",
      "source": [
        "a = int(input(\"Enter the marks\"))\n",
        "\n",
        "if a > 0 :\n",
        "  print(\"Number is +tive\")\n",
        "\n",
        "if a < 0 :\n",
        "  print(\"Number is -tive\")\n",
        "\n",
        "if a == 0 :\n",
        "  print(\"Number is equal\")"
      ],
      "metadata": {
        "colab": {
          "base_uri": "https://localhost:8080/"
        },
        "id": "w592hYknw6CT",
        "outputId": "5ac3dbc0-21d8-4d41-d535-c98419374489"
      },
      "execution_count": 26,
      "outputs": [
        {
          "output_type": "stream",
          "name": "stdout",
          "text": [
            "Enter the marks-50\n",
            "Number is -tive\n"
          ]
        }
      ]
    },
    {
      "cell_type": "code",
      "source": [
        "a = int(input(\"Enter the marks\"))\n",
        "\n",
        "if a > 0 :\n",
        "  print(\"Number is +tive\")\n",
        "\n",
        "if a < 0 :\n",
        "  print(\"Number is -tive\")\n",
        "\n",
        "if a == 0 :\n",
        "  print(\"Number is equal 0\")"
      ],
      "metadata": {
        "colab": {
          "base_uri": "https://localhost:8080/"
        },
        "id": "xzeq_j86xAaL",
        "outputId": "f6ab44b0-d934-42a0-ff83-7397b9592983"
      },
      "execution_count": 28,
      "outputs": [
        {
          "output_type": "stream",
          "name": "stdout",
          "text": [
            "Enter the marks0\n",
            "Number is equal 0\n"
          ]
        }
      ]
    },
    {
      "cell_type": "markdown",
      "source": [
        "## 2 second program chak highest value"
      ],
      "metadata": {
        "id": "wZ6KFOQpyczE"
      }
    },
    {
      "cell_type": "code",
      "source": [
        "n1 = int(input(\"Enter the number\"))\n",
        "n2 = int(input(\"Enter the number\"))\n",
        "n3 = int(input(\"Enter the number\"))\n",
        "n4 = int(input(\"Enter the number\"))\n",
        "\n",
        "max = n1\n",
        "if n2 > max :\n",
        "  max = n2\n",
        "\n",
        "if n3 > max :\n",
        "  max = n3\n",
        "\n",
        "if n4 > max :\n",
        "  max = n4\n",
        "\n",
        "print(max)"
      ],
      "metadata": {
        "colab": {
          "base_uri": "https://localhost:8080/"
        },
        "id": "5KmKDHaTynx8",
        "outputId": "acfe7530-43f5-4638-c69a-3472494a45ab"
      },
      "execution_count": 30,
      "outputs": [
        {
          "output_type": "stream",
          "name": "stdout",
          "text": [
            "Enter the number20\n",
            "Enter the number30\n",
            "Enter the number13\n",
            "Enter the number40\n",
            "40\n"
          ]
        }
      ]
    }
  ]
}