{
  "nbformat": 4,
  "nbformat_minor": 0,
  "metadata": {
    "colab": {
      "provenance": []
    },
    "kernelspec": {
      "name": "python3",
      "display_name": "Python 3"
    },
    "language_info": {
      "name": "python"
    }
  },
  "cells": [
    {
      "cell_type": "markdown",
      "source": [
        "### if else statement"
      ],
      "metadata": {
        "id": "PHFmrw2k6CWf"
      }
    },
    {
      "cell_type": "markdown",
      "source": [
        "### else Syntax"
      ],
      "metadata": {
        "id": "dvYAEN6y6MSn"
      }
    },
    {
      "cell_type": "code",
      "execution_count": null,
      "metadata": {
        "id": "zWHTIhat4hZ2"
      },
      "outputs": [],
      "source": [
        "# if test expression :\n",
        "\n",
        "#     body of if\n",
        "\n",
        "# else:\n",
        "\n",
        "#   body of else"
      ]
    },
    {
      "cell_type": "markdown",
      "source": [
        "## Example"
      ],
      "metadata": {
        "id": "7k63Xv9o8zHP"
      }
    },
    {
      "cell_type": "code",
      "source": [
        "num = 10\n",
        "\n",
        "if num > 0 :\n",
        "  print(\"Positive Number\")\n",
        "\n",
        "else:\n",
        "  print(\"Negitive Number\")\n"
      ],
      "metadata": {
        "colab": {
          "base_uri": "https://localhost:8080/"
        },
        "id": "D4pRfgmJ821E",
        "outputId": "a759fed2-bb2e-4378-d77c-928c472ca6dd"
      },
      "execution_count": 1,
      "outputs": [
        {
          "output_type": "stream",
          "name": "stdout",
          "text": [
            "Positive Number\n"
          ]
        }
      ]
    },
    {
      "cell_type": "code",
      "source": [
        "num = -10\n",
        "\n",
        "if num > 0 :\n",
        "  print(\"Positive Number\")\n",
        "\n",
        "else:\n",
        "  print(\"Negitive Number\")"
      ],
      "metadata": {
        "colab": {
          "base_uri": "https://localhost:8080/"
        },
        "id": "oJEauFRr9X1f",
        "outputId": "e714f763-db8c-40cf-fa24-2dec3dd72c2f"
      },
      "execution_count": 2,
      "outputs": [
        {
          "output_type": "stream",
          "name": "stdout",
          "text": [
            "Negitive Number\n"
          ]
        }
      ]
    },
    {
      "cell_type": "markdown",
      "source": [
        "### Second Example"
      ],
      "metadata": {
        "id": "GwObE5eC_B5v"
      }
    },
    {
      "cell_type": "code",
      "source": [
        "num = 20\n",
        "\n",
        "if num % 2 == 0 :\n",
        "  print(\"the number is even\")\n",
        "\n",
        "else:\n",
        "  print(\"the number is odd\")"
      ],
      "metadata": {
        "colab": {
          "base_uri": "https://localhost:8080/"
        },
        "id": "uDMFdo91_Gs1",
        "outputId": "4a032127-97f2-4773-dfa0-a8f88b462239"
      },
      "execution_count": 7,
      "outputs": [
        {
          "output_type": "stream",
          "name": "stdout",
          "text": [
            "the number is even\n"
          ]
        }
      ]
    },
    {
      "cell_type": "code",
      "source": [
        "num = 23\n",
        "\n",
        "if num % 2 == 0 :\n",
        "  print(\"the number is even\")\n",
        "\n",
        "else:\n",
        "  print(\"the number is odd\")"
      ],
      "metadata": {
        "colab": {
          "base_uri": "https://localhost:8080/"
        },
        "id": "rh7F1DNh_hQc",
        "outputId": "d4e8837a-6fc1-4ab4-dd94-f34bf7864441"
      },
      "execution_count": 8,
      "outputs": [
        {
          "output_type": "stream",
          "name": "stdout",
          "text": [
            "the number is odd\n"
          ]
        }
      ]
    },
    {
      "cell_type": "code",
      "source": [
        "num = 2020\n",
        "\n",
        "if num % 4 == 0 :\n",
        "  print(\"this is a leep year\")\n",
        "\n",
        "else:\n",
        "  print(\"this is not a leep year\")"
      ],
      "metadata": {
        "colab": {
          "base_uri": "https://localhost:8080/"
        },
        "id": "EtM4-VFaBZn_",
        "outputId": "eedf9d47-a59e-4b8a-97f1-c2867797125d"
      },
      "execution_count": 9,
      "outputs": [
        {
          "output_type": "stream",
          "name": "stdout",
          "text": [
            "this is a leep year\n"
          ]
        }
      ]
    },
    {
      "cell_type": "code",
      "source": [
        "num = 2021\n",
        "\n",
        "if num % 4 == 0 :\n",
        "  print(\"this is a leep year\")\n",
        "\n",
        "else:\n",
        "  print(\"this is not a leep year\")"
      ],
      "metadata": {
        "colab": {
          "base_uri": "https://localhost:8080/"
        },
        "id": "KRuLoDtVBwL0",
        "outputId": "59a66044-e84f-4677-d533-6d3795777869"
      },
      "execution_count": 10,
      "outputs": [
        {
          "output_type": "stream",
          "name": "stdout",
          "text": [
            "this is not a leep year\n"
          ]
        }
      ]
    },
    {
      "cell_type": "markdown",
      "source": [
        "***if elif....else statement***"
      ],
      "metadata": {
        "id": "hRowEWjOCH5B"
      }
    },
    {
      "cell_type": "markdown",
      "source": [
        "## Syntax"
      ],
      "metadata": {
        "id": "6tdcrKBPCWoo"
      }
    },
    {
      "cell_type": "code",
      "source": [
        "# if test expression :\n",
        "\n",
        "\n",
        "#     body of if\n",
        "\n",
        "# elif test expression :\n",
        "\n",
        "#   body of elif\n",
        "\n",
        "\n",
        "# else:\n",
        "\n",
        "#   body of else\n"
      ],
      "metadata": {
        "id": "OS-jP4Y3CQql"
      },
      "execution_count": null,
      "outputs": []
    },
    {
      "cell_type": "code",
      "source": [
        "num = 0\n",
        "\n",
        "if num > 0 :\n",
        "  print(\"postive number\")\n",
        "\n",
        "elif num == 0 :\n",
        "  print(\"zero\")\n",
        "\n",
        "else:\n",
        "  print(\"Negitve number\")"
      ],
      "metadata": {
        "colab": {
          "base_uri": "https://localhost:8080/"
        },
        "id": "F9ChxVG4C53g",
        "outputId": "43d7793a-c2c4-4e6a-f4fa-b259c648cb3f"
      },
      "execution_count": 11,
      "outputs": [
        {
          "output_type": "stream",
          "name": "stdout",
          "text": [
            "zero\n"
          ]
        }
      ]
    },
    {
      "cell_type": "code",
      "source": [
        "num = 2\n",
        "\n",
        "if num > 0 :\n",
        "  print(\"postive number\")\n",
        "\n",
        "elif num == 0 :\n",
        "  print(\"zero\")\n",
        "\n",
        "else:\n",
        "  print(\"Negitve number\")"
      ],
      "metadata": {
        "colab": {
          "base_uri": "https://localhost:8080/"
        },
        "id": "pErgmV3oEneM",
        "outputId": "7ae43ea0-041a-431b-a558-f1467cd1c379"
      },
      "execution_count": 12,
      "outputs": [
        {
          "output_type": "stream",
          "name": "stdout",
          "text": [
            "postive number\n"
          ]
        }
      ]
    },
    {
      "cell_type": "code",
      "source": [
        "marks = 90\n",
        "\n",
        "if marks >= 90 :\n",
        "  print(\"Grade is A+\")\n",
        "\n",
        "elif marks >= 80 :\n",
        "  print(\"Grade is A\")\n",
        "\n",
        "elif marks >= 70 :\n",
        "  print(\"Grade is B\")\n",
        "\n",
        "elif marks >= 60 :\n",
        "  print(\"Grade is C\")\n",
        "\n",
        "else:\n",
        "  print(\"Grade is F\")"
      ],
      "metadata": {
        "colab": {
          "base_uri": "https://localhost:8080/"
        },
        "id": "ZZ8yYSTpEqQh",
        "outputId": "e0544463-0c78-4f31-9471-5f618d5a600e"
      },
      "execution_count": 13,
      "outputs": [
        {
          "output_type": "stream",
          "name": "stdout",
          "text": [
            "Grade is A+\n"
          ]
        }
      ]
    },
    {
      "cell_type": "code",
      "source": [
        "marks = 83\n",
        "\n",
        "if marks >= 90 :\n",
        "  print(\"Grade is A+\")\n",
        "\n",
        "elif marks >= 80 :\n",
        "  print(\"Grade is A\")\n",
        "\n",
        "elif marks >= 70 :\n",
        "  print(\"Grade is B\")\n",
        "\n",
        "elif marks >= 60 :\n",
        "  print(\"Grade is C\")\n",
        "\n",
        "else:\n",
        "  print(\"Grade is F\")"
      ],
      "metadata": {
        "colab": {
          "base_uri": "https://localhost:8080/"
        },
        "id": "Sxo2ClhoGZ4j",
        "outputId": "23984795-a462-48d9-a436-9916cad7751d"
      },
      "execution_count": 14,
      "outputs": [
        {
          "output_type": "stream",
          "name": "stdout",
          "text": [
            "Grade is A\n"
          ]
        }
      ]
    },
    {
      "cell_type": "code",
      "source": [
        "marks = 70\n",
        "\n",
        "if marks >= 90 :\n",
        "  print(\"Grade is A+\")\n",
        "\n",
        "elif marks >= 80 :\n",
        "  print(\"Grade is A\")\n",
        "\n",
        "elif marks >= 70 :\n",
        "  print(\"Grade is B\")\n",
        "\n",
        "elif marks >= 60 :\n",
        "  print(\"Grade is C\")\n",
        "\n",
        "else:\n",
        "  print(\"Grade is F\")"
      ],
      "metadata": {
        "colab": {
          "base_uri": "https://localhost:8080/"
        },
        "id": "FN8baTPLGeA1",
        "outputId": "87fd039c-18aa-4e66-fbdb-8b961c1ab7f5"
      },
      "execution_count": 15,
      "outputs": [
        {
          "output_type": "stream",
          "name": "stdout",
          "text": [
            "Grade is B\n"
          ]
        }
      ]
    }
  ]
}