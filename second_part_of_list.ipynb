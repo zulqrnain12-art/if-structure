{
  "nbformat": 4,
  "nbformat_minor": 0,
  "metadata": {
    "colab": {
      "provenance": []
    },
    "kernelspec": {
      "name": "python3",
      "display_name": "Python 3"
    },
    "language_info": {
      "name": "python"
    }
  },
  "cells": [
    {
      "cell_type": "markdown",
      "source": [
        "## List of append"
      ],
      "metadata": {
        "id": "Wd_QKzJByGIN"
      }
    },
    {
      "cell_type": "code",
      "execution_count": 5,
      "metadata": {
        "colab": {
          "base_uri": "https://localhost:8080/"
        },
        "id": "h68loNG8xmwb",
        "outputId": "f679c070-6b0d-4e6a-9e64-ede7acf141a3"
      },
      "outputs": [
        {
          "output_type": "stream",
          "name": "stdout",
          "text": [
            "['one', 'two', 'three', 'foure', 'five', 'six']\n"
          ]
        }
      ],
      "source": [
        "lst = ['one', 'two', 'three', 'foure']\n",
        "\n",
        "lst.append('five') # append will add the item at the end\n",
        "lst.append('six')\n",
        "\n",
        "print(lst)\n",
        "\n"
      ]
    },
    {
      "cell_type": "markdown",
      "source": [
        "### List insert(x, y)"
      ],
      "metadata": {
        "id": "4S8zh5LQzc5H"
      }
    },
    {
      "cell_type": "code",
      "source": [
        "lst= ['one', 'two', 'five', 'six']\n",
        "\n",
        "lst.insert(3, 'three') #lst.insert(3, 'three') # insert will add the item at the specified index\n",
        "lst.insert(5, 'two')\n",
        "\n",
        "print(lst)"
      ],
      "metadata": {
        "colab": {
          "base_uri": "https://localhost:8080/"
        },
        "id": "X7oMT1FlzmmC",
        "outputId": "a87cec22-9a24-4dac-8b9e-9ec428499b6a"
      },
      "execution_count": 8,
      "outputs": [
        {
          "output_type": "stream",
          "name": "stdout",
          "text": [
            "['one', 'two', 'five', 'three', 'six', 'two']\n"
          ]
        }
      ]
    },
    {
      "cell_type": "markdown",
      "source": [
        "### Remove Function"
      ],
      "metadata": {
        "id": "R1otdfpM0lE-"
      }
    },
    {
      "cell_type": "code",
      "source": [
        "lst = ['one', 'two', 'three', 'five', 'six', 'two']\n",
        "\n",
        "lst.remove('two') # remove will remove the first occurrence of the specified item\n",
        "\n",
        "print(lst)"
      ],
      "metadata": {
        "colab": {
          "base_uri": "https://localhost:8080/"
        },
        "id": "jGhE6jXP0rAI",
        "outputId": "c0bf9c23-34b9-4cd5-ff53-2d6a724b2e96"
      },
      "execution_count": 9,
      "outputs": [
        {
          "output_type": "stream",
          "name": "stdout",
          "text": [
            "['one', 'three', 'five', 'six', 'two']\n"
          ]
        }
      ]
    },
    {
      "cell_type": "markdown",
      "source": [
        "### List append & Extend"
      ],
      "metadata": {
        "id": "XR4ebPVK1H4P"
      }
    },
    {
      "cell_type": "code",
      "source": [
        "lst = ['one', 'three', 'five', 'six', 'two']\n",
        "\n",
        "lst2 =[1, 2, 3, 4, 5]\n",
        "\n",
        "lst.append(lst2) # append will add the elements of lst2 to the end of lst\n",
        "\n",
        "print(lst)"
      ],
      "metadata": {
        "colab": {
          "base_uri": "https://localhost:8080/"
        },
        "id": "D4Thv8Vz1Oub",
        "outputId": "64f0e724-e61a-43a4-e66f-46f693f307e6"
      },
      "execution_count": 11,
      "outputs": [
        {
          "output_type": "stream",
          "name": "stdout",
          "text": [
            "['one', 'three', 'five', 'six', 'two', [1, 2, 3, 4, 5]]\n"
          ]
        }
      ]
    },
    {
      "cell_type": "code",
      "source": [
        "lst = ['one', 'three', 'five', 'six', 'two']\n",
        "\n",
        "lst2 =[1, 2, 3, 4, 5]\n",
        "\n",
        "lst.extend(lst2) # extend will add the elements of lst2 to the end of lst\n",
        "\n",
        "print(lst)"
      ],
      "metadata": {
        "colab": {
          "base_uri": "https://localhost:8080/"
        },
        "id": "J9wmXFHK1p71",
        "outputId": "c31f490e-71ed-49a3-8eb5-bb1701e79462"
      },
      "execution_count": 12,
      "outputs": [
        {
          "output_type": "stream",
          "name": "stdout",
          "text": [
            "['one', 'three', 'five', 'six', 'two', 1, 2, 3, 4, 5]\n"
          ]
        }
      ]
    },
    {
      "cell_type": "markdown",
      "source": [
        "### Delete Function"
      ],
      "metadata": {
        "id": "onGKaDfw2Y9h"
      }
    },
    {
      "cell_type": "code",
      "source": [
        "lst = ['one', 'three', 'five', 'six', 'two']\n",
        "\n",
        "del lst [3]\n",
        "print(lst)\n",
        "\n",
        "# or we can use pop mothed\n",
        "\n",
        "a = lst.pop(3)\n",
        "print(a)\n",
        "\n",
        "print(lst)"
      ],
      "metadata": {
        "colab": {
          "base_uri": "https://localhost:8080/"
        },
        "id": "npREyP5d2gRw",
        "outputId": "322346ff-aec9-4d53-ef69-69f956905eff"
      },
      "execution_count": 15,
      "outputs": [
        {
          "output_type": "stream",
          "name": "stdout",
          "text": [
            "['one', 'three', 'five', 'two']\n",
            "two\n",
            "['one', 'three', 'five']\n"
          ]
        }
      ]
    },
    {
      "cell_type": "markdown",
      "source": [
        "### List related keyword in python"
      ],
      "metadata": {
        "id": "1CfeYWpH3t9q"
      }
    },
    {
      "cell_type": "code",
      "source": [
        "# keyword 'in' is used to test if an item is in a list\n",
        "\n",
        "lst= ['one', 'three', 'five', 'six', 'two']\n",
        "\n",
        "if 'five' in lst :\n",
        "  print('Artificial Intelligence')\n",
        "\n",
        "#keyword 'not' can combine with 'in'\n",
        "\n",
        "if 'four' not in lst:\n",
        "  print('Machine learning')"
      ],
      "metadata": {
        "colab": {
          "base_uri": "https://localhost:8080/"
        },
        "id": "ib2OjVGF2vy8",
        "outputId": "dd85696f-5c8c-4a66-ae2d-b57af93635b2"
      },
      "execution_count": 16,
      "outputs": [
        {
          "output_type": "stream",
          "name": "stdout",
          "text": [
            "Artificial Intelligence\n",
            "Machine learning\n"
          ]
        }
      ]
    },
    {
      "cell_type": "markdown",
      "source": [
        "### List Reverse"
      ],
      "metadata": {
        "id": "CaPUuEb_4wur"
      }
    },
    {
      "cell_type": "code",
      "source": [
        "# Reveser is reveseres the entire list\n",
        "\n",
        "lst = ['one', 'two', 'three', 'four', 'five']\n",
        "\n",
        "lst.reverse()\n",
        "\n",
        "print(lst)"
      ],
      "metadata": {
        "colab": {
          "base_uri": "https://localhost:8080/"
        },
        "id": "s9vLz4Q741cY",
        "outputId": "4de1ae9a-2c69-4c15-80f3-21045bf07ac2"
      },
      "execution_count": 17,
      "outputs": [
        {
          "output_type": "stream",
          "name": "stdout",
          "text": [
            "['five', 'four', 'three', 'two', 'one']\n"
          ]
        }
      ]
    },
    {
      "cell_type": "markdown",
      "source": [
        "### List sorting"
      ],
      "metadata": {
        "id": "h33DEoNe5m6U"
      }
    },
    {
      "cell_type": "code",
      "source": [
        "# create a list with number\n",
        "\n",
        "number = [2, 5, 7, 9, 4, 2, 1, 3]\n",
        "# Sorting a list in ascending order\n",
        "sorted_lst = sorted(number)\n",
        "\n",
        "print(\"sorted_lst:  \", sorted_lst )\n",
        "\n",
        "# original list remian unchanged\n",
        "\n",
        "print(\"original list: \", number)"
      ],
      "metadata": {
        "colab": {
          "base_uri": "https://localhost:8080/"
        },
        "id": "UJoeVwNe5rPc",
        "outputId": "405e8a98-dfb0-42d9-e6c9-2a8241ab42ed"
      },
      "execution_count": 18,
      "outputs": [
        {
          "output_type": "stream",
          "name": "stdout",
          "text": [
            "sorted_lst:   [1, 2, 2, 3, 4, 5, 7, 9]\n",
            "original list:  [2, 5, 7, 9, 4, 2, 1, 3]\n"
          ]
        }
      ]
    },
    {
      "cell_type": "markdown",
      "source": [
        "### Sending and dissending oder"
      ],
      "metadata": {
        "id": "k1BAR8rI7FGu"
      }
    },
    {
      "cell_type": "code",
      "source": [
        "# create a list reveser sorted oder\n",
        "\n",
        "print(\"Reversed_sorted_lst :\", sorted(number, reverse=True))\n",
        "\n",
        "# original list remain unchnaged\n",
        "print(\"original list :\", number)"
      ],
      "metadata": {
        "colab": {
          "base_uri": "https://localhost:8080/"
        },
        "id": "LP2M2gwx7MP8",
        "outputId": "e47db953-b631-4988-8f33-d61f4ba602c2"
      },
      "execution_count": 22,
      "outputs": [
        {
          "output_type": "stream",
          "name": "stdout",
          "text": [
            "Reversed_sorted_lst : [9, 7, 5, 4, 3, 2, 2, 1]\n",
            "original list : [2, 5, 7, 9, 4, 2, 1, 3]\n"
          ]
        }
      ]
    }
  ]
}